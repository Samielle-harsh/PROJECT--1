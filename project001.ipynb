{
 "cells": [
  {
   "cell_type": "markdown",
   "id": "5cb03766",
   "metadata": {},
   "source": [
    " ## Aviation Accident Database & Synopses"
   ]
  },
  {
   "cell_type": "markdown",
   "id": "a5c3c2a6",
   "metadata": {},
   "source": [
    "# A. Defining the Question "
   ]
  },
  {
   "cell_type": "markdown",
   "id": "dc296a9a",
   "metadata": {},
   "source": [
    " 1. Specifying the question\n",
    "\n",
    "Your company is expanding in to new industries to diversify its portfolio. Specifically, they are interested in purchasing and operating airplanes for commercial and private enterprises, but do not know anything about the potential risks of aircraft. You are charged with determining which aircraft are the lowest risk for the company to start this new business endeavor. You must then translate your findings into actionable insights that the head of the new aviation division can use to help decide which aircraft to purchase."
   ]
  },
  {
   "cell_type": "markdown",
   "id": "1aeeeb33",
   "metadata": {},
   "source": [
    "  2. Defining the Metric for success\n",
    "\n",
    "This analysis will be considered a success when we are able to effectively determine  the aircraft with the lowest risk for the Company to purchase and start this new business.  "
   ]
  },
  {
   "cell_type": "markdown",
   "id": "a1f65ef8",
   "metadata": {},
   "source": [
    "  3. Data Analysis\n",
    "\n",
    "This analysis will be considered a success when we are able to effectively determine  the aircraft with the lowest risk for the Company to purchase and start this new business.  "
   ]
  },
  {
   "cell_type": "markdown",
   "id": "e2a8da76",
   "metadata": {},
   "source": [
    "Importing the Libraries"
   ]
  },
  {
   "cell_type": "code",
   "execution_count": 2,
   "id": "2319864e",
   "metadata": {},
   "outputs": [],
   "source": [
    " #importing libraries\n",
    "import pandas as pd\n",
    "import numpy as np\n",
    "import matplotlib.pyplot as plt"
   ]
  },
  {
   "cell_type": "markdown",
   "id": "d9da81cc",
   "metadata": {},
   "source": [
    " 3. Understand the Business Problem\n",
    "  \n",
    "Your company wants to venture into aviation but needs help identifying low-risk aircraft. Your job is to explore accident data, identify patterns, and recommend which aircraft types are safest."
   ]
  },
  {
   "cell_type": "markdown",
   "id": "69239d18",
   "metadata": {},
   "source": [
    "## Data reading"
   ]
  },
  {
   "cell_type": "code",
   "execution_count": 38,
   "id": "e408156b",
   "metadata": {},
   "outputs": [],
   "source": [
    "# Run this cell without changes\n",
    "import pandas as pd\n",
    "import numpy as np\n",
    "import matplotlib.pyplot as plt\n",
    "from datetime import datetime"
   ]
  },
  {
   "cell_type": "code",
   "execution_count": 40,
   "id": "aa93db78",
   "metadata": {},
   "outputs": [],
   "source": [
    "# Loading the Dataset\n",
    "aviation= pd.read_excel ('AviationData.xlsx')\n"
   ]
  },
  {
   "cell_type": "code",
   "execution_count": 41,
   "id": "d307be49",
   "metadata": {},
   "outputs": [
    {
     "name": "stdout",
     "output_type": "stream",
     "text": [
      "c:\\Users\\PC\\Documents\\First\\Assignment\\project01\n"
     ]
    }
   ],
   "source": [
    "import os\n",
    "print(os.getcwd())"
   ]
  },
  {
   "cell_type": "markdown",
   "id": "2bd1c7d5",
   "metadata": {},
   "source": [
    "# 3. Checking the Data"
   ]
  },
  {
   "cell_type": "code",
   "execution_count": 42,
   "id": "693ac96d",
   "metadata": {},
   "outputs": [
    {
     "name": "stdout",
     "output_type": "stream",
     "text": [
      "         Event.Id Investigation.Type Accident.Number Event.Date  \\\n",
      "0  20001218X45444           Accident      SEA87LA080 1948-10-24   \n",
      "1  20001218X45447           Accident      LAX94LA336 1962-07-19   \n",
      "2  20061025X01555           Accident      NYC07LA005 1974-08-30   \n",
      "3  20001218X45448           Accident      LAX96LA321 1977-06-19   \n",
      "4  20041105X01764           Accident      CHI79FA064 1979-08-02   \n",
      "\n",
      "          Location        Country   Latitude  Longitude Airport.Code  \\\n",
      "0  MOOSE CREEK, ID  United States        NaN        NaN          NaN   \n",
      "1   BRIDGEPORT, CA  United States        NaN        NaN          NaN   \n",
      "2    Saltville, VA  United States  36.922223 -81.878056          NaN   \n",
      "3       EUREKA, CA  United States        NaN        NaN          NaN   \n",
      "4       Canton, OH  United States        NaN        NaN          NaN   \n",
      "\n",
      "  Airport.Name  ... Total.Minor.Injuries Total.Uninjured Weather.Condition  \\\n",
      "0          NaN  ...                  0.0             0.0               UNK   \n",
      "1          NaN  ...                  0.0             0.0               UNK   \n",
      "2          NaN  ...                  NaN             NaN               IMC   \n",
      "3          NaN  ...                  0.0             0.0               IMC   \n",
      "4          NaN  ...                  NaN             0.0               VMC   \n",
      "\n",
      "  Broad.phase.of.flight   Report.Status Publication.Date   Location.1  \\\n",
      "0                Cruise  Probable Cause              NaT  MOOSE CREEK   \n",
      "1               Unknown  Probable Cause       1996-09-19   BRIDGEPORT   \n",
      "2                Cruise  Probable Cause       2007-02-26    Saltville   \n",
      "3                Cruise  Probable Cause       2000-09-12       EUREKA   \n",
      "4              Approach  Probable Cause       1980-04-16       Canton   \n",
      "\n",
      "     US_State Unnamed: 33 Unnamed: 34  \n",
      "0       Idaho         NaN         NaN  \n",
      "1  California         NaN         NaN  \n",
      "2    Virginia         NaN         NaN  \n",
      "3  California         NaN         NaN  \n",
      "4        Ohio         NaN         NaN  \n",
      "\n",
      "[5 rows x 35 columns]\n"
     ]
    }
   ],
   "source": [
    "\n",
    "print(aviation.head(5))"
   ]
  },
  {
   "cell_type": "code",
   "execution_count": 6,
   "id": "24feea1f",
   "metadata": {},
   "outputs": [
    {
     "data": {
      "text/plain": [
       "(88889, 35)"
      ]
     },
     "execution_count": 6,
     "metadata": {},
     "output_type": "execute_result"
    }
   ],
   "source": [
    "aviation.shape"
   ]
  },
  {
   "cell_type": "code",
   "execution_count": 7,
   "id": "041eff7d",
   "metadata": {},
   "outputs": [
    {
     "data": {
      "text/plain": [
       "<bound method NDFrame.describe of              Event.Id Investigation.Type Accident.Number Event.Date  \\\n",
       "0      20001218X45444           Accident      SEA87LA080 1948-10-24   \n",
       "1      20001218X45447           Accident      LAX94LA336 1962-07-19   \n",
       "2      20061025X01555           Accident      NYC07LA005 1974-08-30   \n",
       "3      20001218X45448           Accident      LAX96LA321 1977-06-19   \n",
       "4      20041105X01764           Accident      CHI79FA064 1979-08-02   \n",
       "...               ...                ...             ...        ...   \n",
       "88884  20221227106491           Accident      ERA23LA093 2022-12-26   \n",
       "88885  20221227106494           Accident      ERA23LA095 2022-12-26   \n",
       "88886  20221227106497           Accident      WPR23LA075 2022-12-26   \n",
       "88887  20221227106498           Accident      WPR23LA076 2022-12-26   \n",
       "88888  20221230106513           Accident      ERA23LA097 2022-12-29   \n",
       "\n",
       "              Location        Country   Latitude  Longitude Airport.Code  \\\n",
       "0      MOOSE CREEK, ID  United States        NaN        NaN          NaN   \n",
       "1       BRIDGEPORT, CA  United States        NaN        NaN          NaN   \n",
       "2        Saltville, VA  United States  36.922223 -81.878056          NaN   \n",
       "3           EUREKA, CA  United States        NaN        NaN          NaN   \n",
       "4           Canton, OH  United States        NaN        NaN          NaN   \n",
       "...                ...            ...        ...        ...          ...   \n",
       "88884    Annapolis, MD  United States        NaN        NaN          NaN   \n",
       "88885      Hampton, NH  United States        NaN        NaN          NaN   \n",
       "88886       Payson, AZ  United States    341525N   1112021W          PAN   \n",
       "88887       Morgan, UT  United States        NaN        NaN          NaN   \n",
       "88888       Athens, GA  United States        NaN        NaN          NaN   \n",
       "\n",
       "      Airport.Name  ... Total.Minor.Injuries Total.Uninjured  \\\n",
       "0              NaN  ...                  0.0             0.0   \n",
       "1              NaN  ...                  0.0             0.0   \n",
       "2              NaN  ...                  NaN             NaN   \n",
       "3              NaN  ...                  0.0             0.0   \n",
       "4              NaN  ...                  NaN             0.0   \n",
       "...            ...  ...                  ...             ...   \n",
       "88884          NaN  ...                  0.0             0.0   \n",
       "88885          NaN  ...                  0.0             0.0   \n",
       "88886       PAYSON  ...                  0.0             1.0   \n",
       "88887          NaN  ...                  0.0             0.0   \n",
       "88888          NaN  ...                  0.0             1.0   \n",
       "\n",
       "      Weather.Condition Broad.phase.of.flight   Report.Status  \\\n",
       "0                   UNK                Cruise  Probable Cause   \n",
       "1                   UNK               Unknown  Probable Cause   \n",
       "2                   IMC                Cruise  Probable Cause   \n",
       "3                   IMC                Cruise  Probable Cause   \n",
       "4                   VMC              Approach  Probable Cause   \n",
       "...                 ...                   ...             ...   \n",
       "88884               NaN                   NaN             NaN   \n",
       "88885               NaN                   NaN             NaN   \n",
       "88886               VMC                   NaN             NaN   \n",
       "88887               NaN                   NaN             NaN   \n",
       "88888               NaN                   NaN             NaN   \n",
       "\n",
       "      Publication.Date   Location.1    US_State Unnamed: 33 Unnamed: 34  \n",
       "0                  NaT  MOOSE CREEK       Idaho         NaN         NaN  \n",
       "1           1996-09-19   BRIDGEPORT  California         NaN         NaN  \n",
       "2           2007-02-26    Saltville    Virginia         NaN         NaN  \n",
       "3           2000-09-12       EUREKA  California         NaN         NaN  \n",
       "4           1980-04-16       Canton        Ohio         NaN         NaN  \n",
       "...                ...          ...         ...         ...         ...  \n",
       "88884       2022-12-29    Annapolis         NaN         NaN         NaN  \n",
       "88885              NaT      Hampton         NaN         NaN         NaN  \n",
       "88886       2022-12-27       Payson         NaN         NaN         NaN  \n",
       "88887              NaT       Morgan         NaN         NaN         NaN  \n",
       "88888       2022-12-30       Athens         NaN         NaN         NaN  \n",
       "\n",
       "[88889 rows x 35 columns]>"
      ]
     },
     "execution_count": 7,
     "metadata": {},
     "output_type": "execute_result"
    }
   ],
   "source": [
    "aviation.describe"
   ]
  },
  {
   "cell_type": "code",
   "execution_count": 8,
   "id": "718cb538",
   "metadata": {},
   "outputs": [
    {
     "data": {
      "text/plain": [
       "<bound method DataFrame.info of              Event.Id Investigation.Type Accident.Number Event.Date  \\\n",
       "0      20001218X45444           Accident      SEA87LA080 1948-10-24   \n",
       "1      20001218X45447           Accident      LAX94LA336 1962-07-19   \n",
       "2      20061025X01555           Accident      NYC07LA005 1974-08-30   \n",
       "3      20001218X45448           Accident      LAX96LA321 1977-06-19   \n",
       "4      20041105X01764           Accident      CHI79FA064 1979-08-02   \n",
       "...               ...                ...             ...        ...   \n",
       "88884  20221227106491           Accident      ERA23LA093 2022-12-26   \n",
       "88885  20221227106494           Accident      ERA23LA095 2022-12-26   \n",
       "88886  20221227106497           Accident      WPR23LA075 2022-12-26   \n",
       "88887  20221227106498           Accident      WPR23LA076 2022-12-26   \n",
       "88888  20221230106513           Accident      ERA23LA097 2022-12-29   \n",
       "\n",
       "              Location        Country   Latitude  Longitude Airport.Code  \\\n",
       "0      MOOSE CREEK, ID  United States        NaN        NaN          NaN   \n",
       "1       BRIDGEPORT, CA  United States        NaN        NaN          NaN   \n",
       "2        Saltville, VA  United States  36.922223 -81.878056          NaN   \n",
       "3           EUREKA, CA  United States        NaN        NaN          NaN   \n",
       "4           Canton, OH  United States        NaN        NaN          NaN   \n",
       "...                ...            ...        ...        ...          ...   \n",
       "88884    Annapolis, MD  United States        NaN        NaN          NaN   \n",
       "88885      Hampton, NH  United States        NaN        NaN          NaN   \n",
       "88886       Payson, AZ  United States    341525N   1112021W          PAN   \n",
       "88887       Morgan, UT  United States        NaN        NaN          NaN   \n",
       "88888       Athens, GA  United States        NaN        NaN          NaN   \n",
       "\n",
       "      Airport.Name  ... Total.Minor.Injuries Total.Uninjured  \\\n",
       "0              NaN  ...                  0.0             0.0   \n",
       "1              NaN  ...                  0.0             0.0   \n",
       "2              NaN  ...                  NaN             NaN   \n",
       "3              NaN  ...                  0.0             0.0   \n",
       "4              NaN  ...                  NaN             0.0   \n",
       "...            ...  ...                  ...             ...   \n",
       "88884          NaN  ...                  0.0             0.0   \n",
       "88885          NaN  ...                  0.0             0.0   \n",
       "88886       PAYSON  ...                  0.0             1.0   \n",
       "88887          NaN  ...                  0.0             0.0   \n",
       "88888          NaN  ...                  0.0             1.0   \n",
       "\n",
       "      Weather.Condition Broad.phase.of.flight   Report.Status  \\\n",
       "0                   UNK                Cruise  Probable Cause   \n",
       "1                   UNK               Unknown  Probable Cause   \n",
       "2                   IMC                Cruise  Probable Cause   \n",
       "3                   IMC                Cruise  Probable Cause   \n",
       "4                   VMC              Approach  Probable Cause   \n",
       "...                 ...                   ...             ...   \n",
       "88884               NaN                   NaN             NaN   \n",
       "88885               NaN                   NaN             NaN   \n",
       "88886               VMC                   NaN             NaN   \n",
       "88887               NaN                   NaN             NaN   \n",
       "88888               NaN                   NaN             NaN   \n",
       "\n",
       "      Publication.Date   Location.1    US_State Unnamed: 33 Unnamed: 34  \n",
       "0                  NaT  MOOSE CREEK       Idaho         NaN         NaN  \n",
       "1           1996-09-19   BRIDGEPORT  California         NaN         NaN  \n",
       "2           2007-02-26    Saltville    Virginia         NaN         NaN  \n",
       "3           2000-09-12       EUREKA  California         NaN         NaN  \n",
       "4           1980-04-16       Canton        Ohio         NaN         NaN  \n",
       "...                ...          ...         ...         ...         ...  \n",
       "88884       2022-12-29    Annapolis         NaN         NaN         NaN  \n",
       "88885              NaT      Hampton         NaN         NaN         NaN  \n",
       "88886       2022-12-27       Payson         NaN         NaN         NaN  \n",
       "88887              NaT       Morgan         NaN         NaN         NaN  \n",
       "88888       2022-12-30       Athens         NaN         NaN         NaN  \n",
       "\n",
       "[88889 rows x 35 columns]>"
      ]
     },
     "execution_count": 8,
     "metadata": {},
     "output_type": "execute_result"
    }
   ],
   "source": [
    "aviation.info\n"
   ]
  },
  {
   "cell_type": "markdown",
   "id": "cdfc3a02",
   "metadata": {},
   "source": [
    "# 5. Tidying the Dataset"
   ]
  },
  {
   "cell_type": "code",
   "execution_count": 13,
   "id": "7053d146",
   "metadata": {},
   "outputs": [
    {
     "data": {
      "text/plain": [
       "<bound method DataFrame.isnull of              Event.Id Investigation.Type Accident.Number Event.Date  \\\n",
       "0      20001218X45444           Accident      SEA87LA080 1948-10-24   \n",
       "1      20001218X45447           Accident      LAX94LA336 1962-07-19   \n",
       "2      20061025X01555           Accident      NYC07LA005 1974-08-30   \n",
       "3      20001218X45448           Accident      LAX96LA321 1977-06-19   \n",
       "4      20041105X01764           Accident      CHI79FA064 1979-08-02   \n",
       "...               ...                ...             ...        ...   \n",
       "88884  20221227106491           Accident      ERA23LA093 2022-12-26   \n",
       "88885  20221227106494           Accident      ERA23LA095 2022-12-26   \n",
       "88886  20221227106497           Accident      WPR23LA075 2022-12-26   \n",
       "88887  20221227106498           Accident      WPR23LA076 2022-12-26   \n",
       "88888  20221230106513           Accident      ERA23LA097 2022-12-29   \n",
       "\n",
       "              Location        Country   Latitude  Longitude Airport.Code  \\\n",
       "0      MOOSE CREEK, ID  United States        NaN        NaN          NaN   \n",
       "1       BRIDGEPORT, CA  United States        NaN        NaN          NaN   \n",
       "2        Saltville, VA  United States  36.922223 -81.878056          NaN   \n",
       "3           EUREKA, CA  United States        NaN        NaN          NaN   \n",
       "4           Canton, OH  United States        NaN        NaN          NaN   \n",
       "...                ...            ...        ...        ...          ...   \n",
       "88884    Annapolis, MD  United States        NaN        NaN          NaN   \n",
       "88885      Hampton, NH  United States        NaN        NaN          NaN   \n",
       "88886       Payson, AZ  United States    341525N   1112021W          PAN   \n",
       "88887       Morgan, UT  United States        NaN        NaN          NaN   \n",
       "88888       Athens, GA  United States        NaN        NaN          NaN   \n",
       "\n",
       "      Airport.Name  ... Total.Minor.Injuries Total.Uninjured  \\\n",
       "0              NaN  ...                  0.0             0.0   \n",
       "1              NaN  ...                  0.0             0.0   \n",
       "2              NaN  ...                  NaN             NaN   \n",
       "3              NaN  ...                  0.0             0.0   \n",
       "4              NaN  ...                  NaN             0.0   \n",
       "...            ...  ...                  ...             ...   \n",
       "88884          NaN  ...                  0.0             0.0   \n",
       "88885          NaN  ...                  0.0             0.0   \n",
       "88886       PAYSON  ...                  0.0             1.0   \n",
       "88887          NaN  ...                  0.0             0.0   \n",
       "88888          NaN  ...                  0.0             1.0   \n",
       "\n",
       "      Weather.Condition Broad.phase.of.flight   Report.Status  \\\n",
       "0                   UNK                Cruise  Probable Cause   \n",
       "1                   UNK               Unknown  Probable Cause   \n",
       "2                   IMC                Cruise  Probable Cause   \n",
       "3                   IMC                Cruise  Probable Cause   \n",
       "4                   VMC              Approach  Probable Cause   \n",
       "...                 ...                   ...             ...   \n",
       "88884               NaN                   NaN             NaN   \n",
       "88885               NaN                   NaN             NaN   \n",
       "88886               VMC                   NaN             NaN   \n",
       "88887               NaN                   NaN             NaN   \n",
       "88888               NaN                   NaN             NaN   \n",
       "\n",
       "      Publication.Date   Location.1    US_State Unnamed: 33 Unnamed: 34  \n",
       "0                  NaT  MOOSE CREEK       Idaho         NaN         NaN  \n",
       "1           1996-09-19   BRIDGEPORT  California         NaN         NaN  \n",
       "2           2007-02-26    Saltville    Virginia         NaN         NaN  \n",
       "3           2000-09-12       EUREKA  California         NaN         NaN  \n",
       "4           1980-04-16       Canton        Ohio         NaN         NaN  \n",
       "...                ...          ...         ...         ...         ...  \n",
       "88884       2022-12-29    Annapolis         NaN         NaN         NaN  \n",
       "88885              NaT      Hampton         NaN         NaN         NaN  \n",
       "88886       2022-12-27       Payson         NaN         NaN         NaN  \n",
       "88887              NaT       Morgan         NaN         NaN         NaN  \n",
       "88888       2022-12-30       Athens         NaN         NaN         NaN  \n",
       "\n",
       "[88889 rows x 35 columns]>"
      ]
     },
     "execution_count": 13,
     "metadata": {},
     "output_type": "execute_result"
    }
   ],
   "source": [
    "#Checking unique values\n",
    "\n",
    "aviation.isnull"
   ]
  },
  {
   "cell_type": "code",
   "execution_count": 14,
   "id": "6d5ac74b",
   "metadata": {},
   "outputs": [
    {
     "data": {
      "text/plain": [
       "Event.Id                      0\n",
       "Investigation.Type            0\n",
       "Accident.Number               0\n",
       "Event.Date                    0\n",
       "Location                     52\n",
       "Country                     226\n",
       "Latitude                  54507\n",
       "Longitude                 54516\n",
       "Airport.Code              38757\n",
       "Airport.Name              36185\n",
       "Injury.Severity            1000\n",
       "Aircraft.damage            3194\n",
       "Aircraft.Category         56602\n",
       "Registration.Number        1382\n",
       "Make                         63\n",
       "Model                        92\n",
       "Amateur.Built               102\n",
       "Number.of.Engines          6084\n",
       "Engine.Type                7096\n",
       "FAR.Description           56866\n",
       "Schedule                  76307\n",
       "Purpose.of.flight          6192\n",
       "Air.carrier               72241\n",
       "Total.Fatal.Injuries      11401\n",
       "Total.Serious.Injuries    12510\n",
       "Total.Minor.Injuries      11933\n",
       "Total.Uninjured            5912\n",
       "Weather.Condition          4492\n",
       "Broad.phase.of.flight     27165\n",
       "Report.Status              6384\n",
       "Publication.Date          13771\n",
       "Location.1                   64\n",
       "US_State                  84962\n",
       "Unnamed: 33               88855\n",
       "Unnamed: 34               88888\n",
       "dtype: int64"
      ]
     },
     "execution_count": 14,
     "metadata": {},
     "output_type": "execute_result"
    }
   ],
   "source": [
    "# Identifying the Missing Data\n",
    "aviation.isna().sum()"
   ]
  },
  {
   "cell_type": "code",
   "execution_count": 19,
   "id": "650a4475",
   "metadata": {},
   "outputs": [
    {
     "data": {
      "text/plain": [
       "0"
      ]
     },
     "execution_count": 19,
     "metadata": {},
     "output_type": "execute_result"
    }
   ],
   "source": [
    "#checking for duplicates in Results dataset\n",
    "aviation.duplicated().sum()"
   ]
  },
  {
   "cell_type": "markdown",
   "id": "870d27bd",
   "metadata": {},
   "source": [
    "The missing data will not affect your Data Analysis"
   ]
  },
  {
   "cell_type": "code",
   "execution_count": 22,
   "id": "8d4acd79",
   "metadata": {},
   "outputs": [
    {
     "data": {
      "application/vnd.microsoft.datawrangler.viewer.v0+json": {
       "columns": [
        {
         "name": "index",
         "rawType": "int64",
         "type": "integer"
        },
        {
         "name": "Event.Id",
         "rawType": "object",
         "type": "unknown"
        },
        {
         "name": "Investigation.Type",
         "rawType": "object",
         "type": "string"
        },
        {
         "name": "Accident.Number",
         "rawType": "object",
         "type": "string"
        },
        {
         "name": "Event.Date",
         "rawType": "datetime64[ns]",
         "type": "datetime"
        },
        {
         "name": "Country",
         "rawType": "object",
         "type": "unknown"
        },
        {
         "name": "Injury.Severity",
         "rawType": "object",
         "type": "unknown"
        },
        {
         "name": "Aircraft.damage",
         "rawType": "object",
         "type": "unknown"
        },
        {
         "name": "Aircraft.Category",
         "rawType": "object",
         "type": "unknown"
        },
        {
         "name": "Registration.Number",
         "rawType": "object",
         "type": "unknown"
        },
        {
         "name": "Make",
         "rawType": "object",
         "type": "unknown"
        },
        {
         "name": "Number.of.Engines",
         "rawType": "float64",
         "type": "float"
        },
        {
         "name": "Engine.Type",
         "rawType": "object",
         "type": "unknown"
        },
        {
         "name": "Purpose.of.flight",
         "rawType": "object",
         "type": "unknown"
        },
        {
         "name": "Total.Fatal.Injuries",
         "rawType": "float64",
         "type": "float"
        },
        {
         "name": "Total.Serious.Injuries",
         "rawType": "float64",
         "type": "float"
        },
        {
         "name": "Total.Minor.Injuries",
         "rawType": "float64",
         "type": "float"
        },
        {
         "name": "Total.Uninjured",
         "rawType": "float64",
         "type": "float"
        },
        {
         "name": "Weather.Condition",
         "rawType": "object",
         "type": "unknown"
        },
        {
         "name": "Location.1",
         "rawType": "object",
         "type": "unknown"
        },
        {
         "name": "US_State",
         "rawType": "object",
         "type": "unknown"
        }
       ],
       "conversionMethod": "pd.DataFrame",
       "ref": "071d72df-319a-43b1-8226-19d6368c257d",
       "rows": [
        [
         "0",
         "20001218X45444",
         "Accident",
         "SEA87LA080",
         "1948-10-24 00:00:00",
         "United States",
         "Fatal(2)",
         "Destroyed",
         null,
         "NC6404",
         "Stinson",
         "1.0",
         "Reciprocating",
         "Personal",
         "2.0",
         "0.0",
         "0.0",
         "0.0",
         "UNK",
         "MOOSE CREEK",
         "Idaho"
        ],
        [
         "1",
         "20001218X45447",
         "Accident",
         "LAX94LA336",
         "1962-07-19 00:00:00",
         "United States",
         "Fatal(4)",
         "Destroyed",
         null,
         "N5069P",
         "Piper",
         "1.0",
         "Reciprocating",
         "Personal",
         "4.0",
         "0.0",
         "0.0",
         "0.0",
         "UNK",
         "BRIDGEPORT",
         "California"
        ],
        [
         "2",
         "20061025X01555",
         "Accident",
         "NYC07LA005",
         "1974-08-30 00:00:00",
         "United States",
         "Fatal(3)",
         "Destroyed",
         null,
         "N5142R",
         "Cessna",
         "1.0",
         "Reciprocating",
         "Personal",
         "3.0",
         null,
         null,
         null,
         "IMC",
         "Saltville",
         "Virginia"
        ],
        [
         "3",
         "20001218X45448",
         "Accident",
         "LAX96LA321",
         "1977-06-19 00:00:00",
         "United States",
         "Fatal(2)",
         "Destroyed",
         null,
         "N1168J",
         "Rockwell",
         "1.0",
         "Reciprocating",
         "Personal",
         "2.0",
         "0.0",
         "0.0",
         "0.0",
         "IMC",
         "EUREKA",
         "California"
        ],
        [
         "4",
         "20041105X01764",
         "Accident",
         "CHI79FA064",
         "1979-08-02 00:00:00",
         "United States",
         "Fatal(1)",
         "Destroyed",
         null,
         "N15NY",
         "Cessna",
         null,
         null,
         "Personal",
         "1.0",
         "2.0",
         null,
         "0.0",
         "VMC",
         "Canton",
         "Ohio"
        ],
        [
         "5",
         "20170710X52551",
         "Accident",
         "NYC79AA106",
         "1979-09-17 00:00:00",
         "United States",
         "Non-Fatal",
         "Substantial",
         "Airplane",
         "CF-TLU",
         "Mcdonnell Douglas",
         "2.0",
         "Turbo Fan",
         null,
         null,
         null,
         "1.0",
         "44.0",
         "VMC",
         "BOSTON",
         "Massachusetts"
        ],
        [
         "6",
         "20001218X45446",
         "Accident",
         "CHI81LA106",
         "1981-08-01 00:00:00",
         "United States",
         "Fatal(4)",
         "Destroyed",
         null,
         "N4988E",
         "Cessna",
         "1.0",
         "Reciprocating",
         "Personal",
         "4.0",
         "0.0",
         "0.0",
         "0.0",
         "IMC",
         "COTTON",
         "Minnesota"
        ],
        [
         "7",
         "20020909X01562",
         "Accident",
         "SEA82DA022",
         "1982-01-01 00:00:00",
         "United States",
         "Non-Fatal",
         "Substantial",
         "Airplane",
         "N2482N",
         "Cessna",
         "1.0",
         "Reciprocating",
         "Personal",
         "0.0",
         "0.0",
         "0.0",
         "2.0",
         "VMC",
         "PULLMAN",
         "Washington"
        ],
        [
         "8",
         "20020909X01561",
         "Accident",
         "NYC82DA015",
         "1982-01-01 00:00:00",
         "United States",
         "Non-Fatal",
         "Substantial",
         "Airplane",
         "N7967Q",
         "Cessna",
         "2.0",
         "Reciprocating",
         "Business",
         "0.0",
         "0.0",
         "0.0",
         "2.0",
         "IMC",
         "EAST HANOVER",
         "New Jersey"
        ],
        [
         "9",
         "20020909X01560",
         "Accident",
         "MIA82DA029",
         "1982-01-01 00:00:00",
         "United States",
         "Non-Fatal",
         "Substantial",
         null,
         "N3906K",
         "North American",
         "1.0",
         "Reciprocating",
         "Personal",
         "0.0",
         "0.0",
         "3.0",
         "0.0",
         "IMC",
         "JACKSONVILLE",
         "Florida"
        ],
        [
         "10",
         "20020909X01559",
         "Accident",
         "FTW82DA034",
         "1982-01-01 00:00:00",
         "United States",
         "Non-Fatal",
         "Substantial",
         null,
         "N44832",
         "Piper",
         "1.0",
         "Reciprocating",
         "Personal",
         "0.0",
         "0.0",
         "0.0",
         "1.0",
         "VMC",
         "HOBBS",
         "New Mexico"
        ],
        [
         "11",
         "20020909X01558",
         "Accident",
         "ATL82DKJ10",
         "1982-01-01 00:00:00",
         "United States",
         "Non-Fatal",
         "Substantial",
         null,
         "N4275S",
         "Beech",
         "1.0",
         "Reciprocating",
         "Personal",
         "0.0",
         "0.0",
         "0.0",
         "1.0",
         "VMC",
         "TUSKEGEE",
         "Alabama"
        ],
        [
         "12",
         "20020917X02148",
         "Accident",
         "FTW82FRJ07",
         "1982-01-02 00:00:00",
         "United States",
         "Non-Fatal",
         "Destroyed",
         "Airplane",
         "N14779",
         "Bellanca",
         "1.0",
         "Reciprocating",
         "Personal",
         "0.0",
         "0.0",
         "1.0",
         "0.0",
         "IMC",
         "HOMER",
         "Louisiana"
        ],
        [
         "13",
         "20020917X02134",
         "Accident",
         "FTW82FRA14",
         "1982-01-02 00:00:00",
         "United States",
         "Fatal(1)",
         "Destroyed",
         "Airplane",
         "N758SK",
         "Cessna",
         "1.0",
         "Reciprocating",
         "Personal",
         "1.0",
         "0.0",
         "0.0",
         "0.0",
         "IMC",
         "HEARNE",
         "Texas"
        ],
        [
         "14",
         "20020917X02119",
         "Accident",
         "FTW82FPJ10",
         "1982-01-02 00:00:00",
         "United States",
         "Fatal(1)",
         "Destroyed",
         "Airplane",
         "N4876K",
         "Navion",
         "1.0",
         "Reciprocating",
         "Personal",
         "1.0",
         "0.0",
         "0.0",
         "0.0",
         "IMC",
         "CHICKASHA",
         "Oklahoma"
        ],
        [
         "15",
         "20020917X02117",
         "Accident",
         "FTW82FPG08",
         "1982-01-02 00:00:00",
         "United States",
         "Fatal(2)",
         "Destroyed",
         "Airplane",
         "N9779L",
         "Beech",
         "1.0",
         "Reciprocating",
         "Personal",
         "2.0",
         "0.0",
         "0.0",
         "0.0",
         "IMC",
         "LITTLE ROCK",
         "Arkansas"
        ],
        [
         "16",
         "20020917X01962",
         "Accident",
         "DEN82DTM08",
         "1982-01-02 00:00:00",
         "United States",
         "Non-Fatal",
         "Destroyed",
         "Helicopter",
         "N51735",
         "Enstrom",
         "1.0",
         "Reciprocating",
         "Personal",
         "0.0",
         "0.0",
         "0.0",
         "1.0",
         "IMC",
         "MIDWAY",
         "Utah"
        ],
        [
         "17",
         "20020917X01656",
         "Accident",
         "ANC82FAG14",
         "1982-01-02 00:00:00",
         "United States",
         "Fatal(3)",
         "Destroyed",
         "Airplane",
         "N7641A",
         "Cessna",
         "1.0",
         "Reciprocating",
         "Personal",
         "3.0",
         "0.0",
         "0.0",
         "0.0",
         "VMC",
         "SKWENTA",
         "Alaska"
        ],
        [
         "18",
         "20020917X02481",
         "Accident",
         "NYC82DA016",
         "1982-01-02 00:00:00",
         "United States",
         "Non-Fatal",
         "Substantial",
         "Airplane",
         "N25084",
         "Cessna",
         "1.0",
         "Reciprocating",
         "Personal",
         "0.0",
         "0.0",
         "0.0",
         "1.0",
         "VMC",
         "GALETON",
         "Pennsylvania"
        ],
        [
         "19",
         "20020917X02339",
         "Accident",
         "MIA82DA028",
         "1982-01-02 00:00:00",
         "United States",
         "Non-Fatal",
         "Substantial",
         "Helicopter",
         "N23BS",
         "Smith",
         "1.0",
         "Reciprocating",
         "Personal",
         "0.0",
         "0.0",
         "0.0",
         "2.0",
         "VMC",
         "MIAMI",
         "Florida"
        ],
        [
         "20",
         "20020917X01894",
         "Accident",
         "CHI82FEC08",
         "1982-01-02 00:00:00",
         "United States",
         "Non-Fatal",
         "Substantial",
         "Airplane",
         "N68812",
         "Cessna",
         "1.0",
         "Reciprocating",
         "Instructional",
         "0.0",
         "0.0",
         "0.0",
         "1.0",
         "VMC",
         "YPSILANTI",
         "Michigan"
        ],
        [
         "21",
         "20020917X01776",
         "Accident",
         "CHI82DA020",
         "1982-01-02 00:00:00",
         "United States",
         "Non-Fatal",
         "Substantial",
         "Airplane",
         "N1549Q",
         "Cessna",
         "1.0",
         "Reciprocating",
         "Personal",
         "0.0",
         "0.0",
         "0.0",
         "2.0",
         "VMC",
         "CHARLOTTE",
         "Michigan"
        ],
        [
         "22",
         "20020917X01657",
         "Accident",
         "ATL82DA027",
         "1982-01-02 00:00:00",
         "United States",
         "Non-Fatal",
         "Substantial",
         "Helicopter",
         "N5745Y",
         "Bell",
         "1.0",
         "Turbo Shaft",
         "Unknown",
         "0.0",
         "0.0",
         "0.0",
         "1.0",
         "VMC",
         "CHAMBLEE",
         "Georgia"
        ],
        [
         "23",
         "20020917X02333",
         "Incident",
         "LAX82IA034",
         "1982-01-03 00:00:00",
         "United States",
         "Incident",
         "Minor",
         "Airplane",
         "N5018P",
         "Piper",
         "1.0",
         "Reciprocating",
         "Personal",
         "0.0",
         "0.0",
         "0.0",
         "1.0",
         "VMC",
         "VAN NUYS",
         "California"
        ],
        [
         "24",
         "20020917X02255",
         "Accident",
         "LAX82FA040",
         "1982-01-03 00:00:00",
         "United States",
         "Fatal(2)",
         "Destroyed",
         "Airplane",
         "N28912",
         "Grumman",
         "1.0",
         "Reciprocating",
         "Personal",
         "2.0",
         "1.0",
         "0.0",
         "0.0",
         "IMC",
         "10 NM W LEE VIN",
         "California"
        ],
        [
         "25",
         "20020917X01905",
         "Accident",
         "DCA82AA008",
         "1982-01-03 00:00:00",
         "United States",
         "Fatal(8)",
         "Destroyed",
         "Airplane",
         "N2620L",
         "Cessna",
         "2.0",
         "Reciprocating",
         "Business",
         "8.0",
         "0.0",
         "0.0",
         "0.0",
         "IMC",
         "ASHLAND",
         "Virginia"
        ],
        [
         "26",
         "20020917X01720",
         "Accident",
         "ATL82FA033",
         "1982-01-03 00:00:00",
         "United States",
         "Fatal(1)",
         "Destroyed",
         "Airplane",
         "N10VS",
         "Beechcraft",
         "2.0",
         "Reciprocating",
         "Personal",
         "1.0",
         "0.0",
         "0.0",
         "0.0",
         "IMC",
         "PINEHURST",
         "North Carolina"
        ],
        [
         "27",
         "20020917X02483",
         "Accident",
         "NYC82DA018",
         "1982-01-03 00:00:00",
         "United States",
         "Non-Fatal",
         "Substantial",
         "Airplane",
         "N7125D",
         "Maule",
         "1.0",
         "Reciprocating",
         "Personal",
         "0.0",
         "0.0",
         "0.0",
         "2.0",
         "VMC",
         "WHITE PLAINS",
         "New York"
        ],
        [
         "28",
         "20020917X02340",
         "Accident",
         "MIA82DA030",
         "1982-01-03 00:00:00",
         "United States",
         "Non-Fatal",
         "Substantial",
         "Airplane",
         "N94252",
         "Cessna",
         "1.0",
         "Reciprocating",
         "Personal",
         "0.0",
         "0.0",
         "1.0",
         "1.0",
         "VMC",
         "COCOA",
         "Florida"
        ],
        [
         "29",
         "20020917X02155",
         "Accident",
         "LAX82DA035",
         "1982-01-03 00:00:00",
         "United States",
         "Non-Fatal",
         "Substantial",
         "Airplane",
         "N8630V",
         "Bellanca",
         "1.0",
         "Reciprocating",
         "Personal",
         "0.0",
         "0.0",
         "2.0",
         "0.0",
         "VMC",
         "SAN CLEMENTINE",
         "California"
        ],
        [
         "30",
         "20020917X01992",
         "Accident",
         "FTW82DA036",
         "1982-01-03 00:00:00",
         "United States",
         "Non-Fatal",
         "Substantial",
         "Airplane",
         "N71054",
         "Cessna",
         "1.0",
         "Reciprocating",
         "Personal",
         "0.0",
         "0.0",
         "2.0",
         "0.0",
         "VMC",
         "FORT WORTH",
         "Texas"
        ],
        [
         "31",
         "20020917X01960",
         "Accident",
         "DEN82DTI09",
         "1982-01-03 00:00:00",
         "United States",
         "Non-Fatal",
         "Substantial",
         "Airplane",
         "N23069",
         "Air Tractor",
         "1.0",
         "Reciprocating",
         "Ferry",
         "0.0",
         "0.0",
         "0.0",
         "1.0",
         "VMC",
         "GREENOUGH",
         "Montana"
        ],
        [
         "32",
         "20020917X02618",
         "Accident",
         "SEA82FA015",
         "1982-01-04 00:00:00",
         "United States",
         "Fatal(4)",
         "Destroyed",
         "Airplane",
         "N8265A",
         "Piper",
         "1.0",
         "Reciprocating",
         "Personal",
         "4.0",
         "0.0",
         "0.0",
         "0.0",
         "VMC",
         "PLEASANT HILL",
         "Oregon"
        ],
        [
         "33",
         "20020917X02254",
         "Accident",
         "LAX82FA038",
         "1982-01-04 00:00:00",
         "United States",
         "Fatal(2)",
         "Destroyed",
         "Airplane",
         "N1956H",
         "Piper",
         "2.0",
         "Reciprocating",
         "Unknown",
         "2.0",
         "0.0",
         "0.0",
         "0.0",
         "VMC",
         "NEAR LAS VEGAS",
         "Nevada"
        ],
        [
         "34",
         "20020917X01880",
         "Accident",
         "CHI82FA019",
         "1982-01-04 00:00:00",
         "United States",
         "Fatal(2)",
         "Destroyed",
         "Airplane",
         "N2CU",
         "Cessna",
         "2.0",
         "Reciprocating",
         "Personal",
         "2.0",
         "2.0",
         "0.0",
         "0.0",
         "IMC",
         "FORT WAYNE",
         "Indiana"
        ],
        [
         "35",
         "20020917X01991",
         "Accident",
         "FTW82DA035",
         "1982-01-04 00:00:00",
         "United States",
         "Non-Fatal",
         "Substantial",
         "Airplane",
         "N32335",
         "Piper",
         "1.0",
         "Reciprocating",
         "Personal",
         "0.0",
         "0.0",
         "2.0",
         "0.0",
         "VMC",
         "ESTANCIA",
         "New Mexico"
        ],
        [
         "36",
         "20020917X02410",
         "Accident",
         "MIA82FKA05",
         "1982-01-04 00:00:00",
         null,
         "Fatal(1)",
         "Destroyed",
         "Airplane",
         "N5151U",
         "Cessna",
         "1.0",
         "Reciprocating",
         "Business",
         "1.0",
         "0.0",
         "1.0",
         "0.0",
         "VMC",
         "SAINT CROIX",
         "0"
        ],
        [
         "37",
         "20020917X02304",
         "Accident",
         "LAX82FUM06",
         "1982-01-05 00:00:00",
         "United States",
         "Fatal(3)",
         "Destroyed",
         "Airplane",
         "N4520K",
         "Navion",
         "1.0",
         "Reciprocating",
         "Business",
         "3.0",
         "0.0",
         "0.0",
         "0.0",
         "IMC",
         "RAMONA",
         "California"
        ],
        [
         "38",
         "20020917X02253",
         "Accident",
         "LAX82FA036",
         "1982-01-05 00:00:00",
         "United States",
         "Fatal(1)",
         "Destroyed",
         "Airplane",
         "N4696Z",
         "Piper",
         "1.0",
         "Reciprocating",
         "Personal",
         "1.0",
         "0.0",
         "0.0",
         "0.0",
         "IMC",
         "BLACK CANYON CI",
         "Arizona"
        ],
        [
         "39",
         "20020917X01906",
         "Accident",
         "DCA82AA009",
         "1982-01-05 00:00:00",
         "United States",
         "Fatal(2)",
         "Destroyed",
         "Airplane",
         "N546BA",
         "Piper",
         "2.0",
         "Reciprocating",
         "Unknown",
         "2.0",
         "0.0",
         "0.0",
         "0.0",
         "VMC",
         "ITHACA",
         "New York"
        ],
        [
         "40",
         "20020917X01764",
         "Incident",
         "ATL82IA029",
         "1982-01-05 00:00:00",
         "United States",
         "Incident",
         "Minor",
         "Airplane",
         "N5782N",
         "Rockwell",
         "1.0",
         "Reciprocating",
         "Business",
         "0.0",
         "0.0",
         "0.0",
         "1.0",
         "VMC",
         "PENSACOLA",
         "Florida"
        ],
        [
         "41",
         "20020917X01993",
         "Accident",
         "FTW82DA037",
         "1982-01-05 00:00:00",
         "United States",
         "Non-Fatal",
         "Substantial",
         "Airplane",
         "N5304P",
         "Piper",
         "1.0",
         "Reciprocating",
         "Business",
         "0.0",
         "1.0",
         "0.0",
         "1.0",
         "VMC",
         "LONOKE",
         "Arkansas"
        ],
        [
         "42",
         "20020917X01658",
         "Accident",
         "ATL82DA028",
         "1982-01-05 00:00:00",
         "United States",
         "Non-Fatal",
         "Substantial",
         "Airplane",
         "N2139T",
         "Piper",
         "1.0",
         "Reciprocating",
         "Ferry",
         "0.0",
         "0.0",
         "0.0",
         "1.0",
         "VMC",
         "GASTONIA",
         "North Carolina"
        ],
        [
         "43",
         "20020917X02156",
         "Accident",
         "LAX82DA037",
         "1982-01-05 00:00:00",
         "United States",
         "Non-Fatal",
         "Substantial",
         "Airplane",
         "N738XP",
         "Cessna",
         "1.0",
         "Reciprocating",
         "Unknown",
         "0.0",
         "0.0",
         "0.0",
         "1.0",
         "VMC",
         "SPRINGERVILLE",
         "Arizona"
        ],
        [
         "44",
         "20020917X01651",
         "Accident",
         "ANC82FA012",
         "1982-01-05 00:00:00",
         "United States",
         "Non-Fatal",
         "Substantial",
         "Airplane",
         "N3343S",
         "Cessna",
         "1.0",
         "Reciprocating",
         "Unknown",
         "0.0",
         "2.0",
         "0.0",
         "0.0",
         "VMC",
         "BETHEL",
         "Alaska"
        ],
        [
         "45",
         "20020917X02423",
         "Accident",
         "MKC82DA016",
         "1982-01-06 00:00:00",
         "United States",
         "Non-Fatal",
         "Substantial",
         "Airplane",
         "N2672A",
         "Cessna",
         "2.0",
         "Reciprocating",
         "Executive/corporate",
         "0.0",
         "0.0",
         "0.0",
         "3.0",
         "VMC",
         "ROLLA",
         "Missouri"
        ],
        [
         "46",
         "20020917X02157",
         "Accident",
         "LAX82DA039",
         "1982-01-06 00:00:00",
         "United States",
         "Non-Fatal",
         "Substantial",
         "Helicopter",
         "N608RA",
         "Aerospatiale",
         "1.0",
         "Turbo Shaft",
         "Business",
         "0.0",
         "0.0",
         "0.0",
         "6.0",
         "VMC",
         "MAMMOTH LAKES",
         "California"
        ],
        [
         "47",
         "20020917X01913",
         "Accident",
         "DEN82DA015",
         "1982-01-06 00:00:00",
         "United States",
         "Non-Fatal",
         "Substantial",
         "Airplane",
         "N8070Q",
         "Beech",
         "1.0",
         "Reciprocating",
         "Personal",
         "0.0",
         "0.0",
         "0.0",
         "3.0",
         "VMC",
         "JACKSON",
         "Wyoming"
        ],
        [
         "48",
         "20020917X01777",
         "Accident",
         "CHI82DA021",
         "1982-01-06 00:00:00",
         "United States",
         "Non-Fatal",
         "Substantial",
         "Airplane",
         "N4900L",
         "Cessna",
         "1.0",
         "Reciprocating",
         "Instructional",
         "0.0",
         "0.0",
         "0.0",
         "2.0",
         "VMC",
         "PAXTON",
         "Illinois"
        ],
        [
         "49",
         "20020917X01757",
         "Accident",
         "ATL82FLG08",
         "1982-01-06 00:00:00",
         "United States",
         "Non-Fatal",
         "Substantial",
         "Airplane",
         "N201NH",
         "Mooney",
         "1.0",
         "Reciprocating",
         "Business",
         "0.0",
         "0.0",
         "0.0",
         "2.0",
         "VMC",
         "HILTON HEAD",
         "South Carolina"
        ]
       ],
       "shape": {
        "columns": 20,
        "rows": 88889
       }
      },
      "text/html": [
       "<div>\n",
       "<style scoped>\n",
       "    .dataframe tbody tr th:only-of-type {\n",
       "        vertical-align: middle;\n",
       "    }\n",
       "\n",
       "    .dataframe tbody tr th {\n",
       "        vertical-align: top;\n",
       "    }\n",
       "\n",
       "    .dataframe thead th {\n",
       "        text-align: right;\n",
       "    }\n",
       "</style>\n",
       "<table border=\"1\" class=\"dataframe\">\n",
       "  <thead>\n",
       "    <tr style=\"text-align: right;\">\n",
       "      <th></th>\n",
       "      <th>Event.Id</th>\n",
       "      <th>Investigation.Type</th>\n",
       "      <th>Accident.Number</th>\n",
       "      <th>Event.Date</th>\n",
       "      <th>Country</th>\n",
       "      <th>Injury.Severity</th>\n",
       "      <th>Aircraft.damage</th>\n",
       "      <th>Aircraft.Category</th>\n",
       "      <th>Registration.Number</th>\n",
       "      <th>Make</th>\n",
       "      <th>Number.of.Engines</th>\n",
       "      <th>Engine.Type</th>\n",
       "      <th>Purpose.of.flight</th>\n",
       "      <th>Total.Fatal.Injuries</th>\n",
       "      <th>Total.Serious.Injuries</th>\n",
       "      <th>Total.Minor.Injuries</th>\n",
       "      <th>Total.Uninjured</th>\n",
       "      <th>Weather.Condition</th>\n",
       "      <th>Location.1</th>\n",
       "      <th>US_State</th>\n",
       "    </tr>\n",
       "  </thead>\n",
       "  <tbody>\n",
       "    <tr>\n",
       "      <th>0</th>\n",
       "      <td>20001218X45444</td>\n",
       "      <td>Accident</td>\n",
       "      <td>SEA87LA080</td>\n",
       "      <td>1948-10-24</td>\n",
       "      <td>United States</td>\n",
       "      <td>Fatal(2)</td>\n",
       "      <td>Destroyed</td>\n",
       "      <td>NaN</td>\n",
       "      <td>NC6404</td>\n",
       "      <td>Stinson</td>\n",
       "      <td>1.0</td>\n",
       "      <td>Reciprocating</td>\n",
       "      <td>Personal</td>\n",
       "      <td>2.0</td>\n",
       "      <td>0.0</td>\n",
       "      <td>0.0</td>\n",
       "      <td>0.0</td>\n",
       "      <td>UNK</td>\n",
       "      <td>MOOSE CREEK</td>\n",
       "      <td>Idaho</td>\n",
       "    </tr>\n",
       "    <tr>\n",
       "      <th>1</th>\n",
       "      <td>20001218X45447</td>\n",
       "      <td>Accident</td>\n",
       "      <td>LAX94LA336</td>\n",
       "      <td>1962-07-19</td>\n",
       "      <td>United States</td>\n",
       "      <td>Fatal(4)</td>\n",
       "      <td>Destroyed</td>\n",
       "      <td>NaN</td>\n",
       "      <td>N5069P</td>\n",
       "      <td>Piper</td>\n",
       "      <td>1.0</td>\n",
       "      <td>Reciprocating</td>\n",
       "      <td>Personal</td>\n",
       "      <td>4.0</td>\n",
       "      <td>0.0</td>\n",
       "      <td>0.0</td>\n",
       "      <td>0.0</td>\n",
       "      <td>UNK</td>\n",
       "      <td>BRIDGEPORT</td>\n",
       "      <td>California</td>\n",
       "    </tr>\n",
       "    <tr>\n",
       "      <th>2</th>\n",
       "      <td>20061025X01555</td>\n",
       "      <td>Accident</td>\n",
       "      <td>NYC07LA005</td>\n",
       "      <td>1974-08-30</td>\n",
       "      <td>United States</td>\n",
       "      <td>Fatal(3)</td>\n",
       "      <td>Destroyed</td>\n",
       "      <td>NaN</td>\n",
       "      <td>N5142R</td>\n",
       "      <td>Cessna</td>\n",
       "      <td>1.0</td>\n",
       "      <td>Reciprocating</td>\n",
       "      <td>Personal</td>\n",
       "      <td>3.0</td>\n",
       "      <td>NaN</td>\n",
       "      <td>NaN</td>\n",
       "      <td>NaN</td>\n",
       "      <td>IMC</td>\n",
       "      <td>Saltville</td>\n",
       "      <td>Virginia</td>\n",
       "    </tr>\n",
       "    <tr>\n",
       "      <th>3</th>\n",
       "      <td>20001218X45448</td>\n",
       "      <td>Accident</td>\n",
       "      <td>LAX96LA321</td>\n",
       "      <td>1977-06-19</td>\n",
       "      <td>United States</td>\n",
       "      <td>Fatal(2)</td>\n",
       "      <td>Destroyed</td>\n",
       "      <td>NaN</td>\n",
       "      <td>N1168J</td>\n",
       "      <td>Rockwell</td>\n",
       "      <td>1.0</td>\n",
       "      <td>Reciprocating</td>\n",
       "      <td>Personal</td>\n",
       "      <td>2.0</td>\n",
       "      <td>0.0</td>\n",
       "      <td>0.0</td>\n",
       "      <td>0.0</td>\n",
       "      <td>IMC</td>\n",
       "      <td>EUREKA</td>\n",
       "      <td>California</td>\n",
       "    </tr>\n",
       "    <tr>\n",
       "      <th>4</th>\n",
       "      <td>20041105X01764</td>\n",
       "      <td>Accident</td>\n",
       "      <td>CHI79FA064</td>\n",
       "      <td>1979-08-02</td>\n",
       "      <td>United States</td>\n",
       "      <td>Fatal(1)</td>\n",
       "      <td>Destroyed</td>\n",
       "      <td>NaN</td>\n",
       "      <td>N15NY</td>\n",
       "      <td>Cessna</td>\n",
       "      <td>NaN</td>\n",
       "      <td>NaN</td>\n",
       "      <td>Personal</td>\n",
       "      <td>1.0</td>\n",
       "      <td>2.0</td>\n",
       "      <td>NaN</td>\n",
       "      <td>0.0</td>\n",
       "      <td>VMC</td>\n",
       "      <td>Canton</td>\n",
       "      <td>Ohio</td>\n",
       "    </tr>\n",
       "    <tr>\n",
       "      <th>...</th>\n",
       "      <td>...</td>\n",
       "      <td>...</td>\n",
       "      <td>...</td>\n",
       "      <td>...</td>\n",
       "      <td>...</td>\n",
       "      <td>...</td>\n",
       "      <td>...</td>\n",
       "      <td>...</td>\n",
       "      <td>...</td>\n",
       "      <td>...</td>\n",
       "      <td>...</td>\n",
       "      <td>...</td>\n",
       "      <td>...</td>\n",
       "      <td>...</td>\n",
       "      <td>...</td>\n",
       "      <td>...</td>\n",
       "      <td>...</td>\n",
       "      <td>...</td>\n",
       "      <td>...</td>\n",
       "      <td>...</td>\n",
       "    </tr>\n",
       "    <tr>\n",
       "      <th>88884</th>\n",
       "      <td>20221227106491</td>\n",
       "      <td>Accident</td>\n",
       "      <td>ERA23LA093</td>\n",
       "      <td>2022-12-26</td>\n",
       "      <td>United States</td>\n",
       "      <td>Minor</td>\n",
       "      <td>NaN</td>\n",
       "      <td>NaN</td>\n",
       "      <td>N1867H</td>\n",
       "      <td>PIPER</td>\n",
       "      <td>NaN</td>\n",
       "      <td>NaN</td>\n",
       "      <td>Personal</td>\n",
       "      <td>0.0</td>\n",
       "      <td>1.0</td>\n",
       "      <td>0.0</td>\n",
       "      <td>0.0</td>\n",
       "      <td>NaN</td>\n",
       "      <td>Annapolis</td>\n",
       "      <td>NaN</td>\n",
       "    </tr>\n",
       "    <tr>\n",
       "      <th>88885</th>\n",
       "      <td>20221227106494</td>\n",
       "      <td>Accident</td>\n",
       "      <td>ERA23LA095</td>\n",
       "      <td>2022-12-26</td>\n",
       "      <td>United States</td>\n",
       "      <td>NaN</td>\n",
       "      <td>NaN</td>\n",
       "      <td>NaN</td>\n",
       "      <td>N2895Z</td>\n",
       "      <td>BELLANCA</td>\n",
       "      <td>NaN</td>\n",
       "      <td>NaN</td>\n",
       "      <td>NaN</td>\n",
       "      <td>0.0</td>\n",
       "      <td>0.0</td>\n",
       "      <td>0.0</td>\n",
       "      <td>0.0</td>\n",
       "      <td>NaN</td>\n",
       "      <td>Hampton</td>\n",
       "      <td>NaN</td>\n",
       "    </tr>\n",
       "    <tr>\n",
       "      <th>88886</th>\n",
       "      <td>20221227106497</td>\n",
       "      <td>Accident</td>\n",
       "      <td>WPR23LA075</td>\n",
       "      <td>2022-12-26</td>\n",
       "      <td>United States</td>\n",
       "      <td>Non-Fatal</td>\n",
       "      <td>Substantial</td>\n",
       "      <td>Airplane</td>\n",
       "      <td>N749PJ</td>\n",
       "      <td>AMERICAN CHAMPION AIRCRAFT</td>\n",
       "      <td>1.0</td>\n",
       "      <td>NaN</td>\n",
       "      <td>Personal</td>\n",
       "      <td>0.0</td>\n",
       "      <td>0.0</td>\n",
       "      <td>0.0</td>\n",
       "      <td>1.0</td>\n",
       "      <td>VMC</td>\n",
       "      <td>Payson</td>\n",
       "      <td>NaN</td>\n",
       "    </tr>\n",
       "    <tr>\n",
       "      <th>88887</th>\n",
       "      <td>20221227106498</td>\n",
       "      <td>Accident</td>\n",
       "      <td>WPR23LA076</td>\n",
       "      <td>2022-12-26</td>\n",
       "      <td>United States</td>\n",
       "      <td>NaN</td>\n",
       "      <td>NaN</td>\n",
       "      <td>NaN</td>\n",
       "      <td>N210CU</td>\n",
       "      <td>CESSNA</td>\n",
       "      <td>NaN</td>\n",
       "      <td>NaN</td>\n",
       "      <td>Personal</td>\n",
       "      <td>0.0</td>\n",
       "      <td>0.0</td>\n",
       "      <td>0.0</td>\n",
       "      <td>0.0</td>\n",
       "      <td>NaN</td>\n",
       "      <td>Morgan</td>\n",
       "      <td>NaN</td>\n",
       "    </tr>\n",
       "    <tr>\n",
       "      <th>88888</th>\n",
       "      <td>20221230106513</td>\n",
       "      <td>Accident</td>\n",
       "      <td>ERA23LA097</td>\n",
       "      <td>2022-12-29</td>\n",
       "      <td>United States</td>\n",
       "      <td>Minor</td>\n",
       "      <td>NaN</td>\n",
       "      <td>NaN</td>\n",
       "      <td>N9026P</td>\n",
       "      <td>PIPER</td>\n",
       "      <td>NaN</td>\n",
       "      <td>NaN</td>\n",
       "      <td>Personal</td>\n",
       "      <td>0.0</td>\n",
       "      <td>1.0</td>\n",
       "      <td>0.0</td>\n",
       "      <td>1.0</td>\n",
       "      <td>NaN</td>\n",
       "      <td>Athens</td>\n",
       "      <td>NaN</td>\n",
       "    </tr>\n",
       "  </tbody>\n",
       "</table>\n",
       "<p>88889 rows × 20 columns</p>\n",
       "</div>"
      ],
      "text/plain": [
       "             Event.Id Investigation.Type Accident.Number Event.Date  \\\n",
       "0      20001218X45444           Accident      SEA87LA080 1948-10-24   \n",
       "1      20001218X45447           Accident      LAX94LA336 1962-07-19   \n",
       "2      20061025X01555           Accident      NYC07LA005 1974-08-30   \n",
       "3      20001218X45448           Accident      LAX96LA321 1977-06-19   \n",
       "4      20041105X01764           Accident      CHI79FA064 1979-08-02   \n",
       "...               ...                ...             ...        ...   \n",
       "88884  20221227106491           Accident      ERA23LA093 2022-12-26   \n",
       "88885  20221227106494           Accident      ERA23LA095 2022-12-26   \n",
       "88886  20221227106497           Accident      WPR23LA075 2022-12-26   \n",
       "88887  20221227106498           Accident      WPR23LA076 2022-12-26   \n",
       "88888  20221230106513           Accident      ERA23LA097 2022-12-29   \n",
       "\n",
       "             Country Injury.Severity Aircraft.damage Aircraft.Category  \\\n",
       "0      United States        Fatal(2)       Destroyed               NaN   \n",
       "1      United States        Fatal(4)       Destroyed               NaN   \n",
       "2      United States        Fatal(3)       Destroyed               NaN   \n",
       "3      United States        Fatal(2)       Destroyed               NaN   \n",
       "4      United States        Fatal(1)       Destroyed               NaN   \n",
       "...              ...             ...             ...               ...   \n",
       "88884  United States           Minor             NaN               NaN   \n",
       "88885  United States             NaN             NaN               NaN   \n",
       "88886  United States       Non-Fatal     Substantial          Airplane   \n",
       "88887  United States             NaN             NaN               NaN   \n",
       "88888  United States           Minor             NaN               NaN   \n",
       "\n",
       "      Registration.Number                        Make  Number.of.Engines  \\\n",
       "0                  NC6404                     Stinson                1.0   \n",
       "1                  N5069P                       Piper                1.0   \n",
       "2                  N5142R                      Cessna                1.0   \n",
       "3                  N1168J                    Rockwell                1.0   \n",
       "4                   N15NY                      Cessna                NaN   \n",
       "...                   ...                         ...                ...   \n",
       "88884              N1867H                       PIPER                NaN   \n",
       "88885              N2895Z                    BELLANCA                NaN   \n",
       "88886              N749PJ  AMERICAN CHAMPION AIRCRAFT                1.0   \n",
       "88887              N210CU                      CESSNA                NaN   \n",
       "88888              N9026P                       PIPER                NaN   \n",
       "\n",
       "         Engine.Type Purpose.of.flight  Total.Fatal.Injuries  \\\n",
       "0      Reciprocating          Personal                   2.0   \n",
       "1      Reciprocating          Personal                   4.0   \n",
       "2      Reciprocating          Personal                   3.0   \n",
       "3      Reciprocating          Personal                   2.0   \n",
       "4                NaN          Personal                   1.0   \n",
       "...              ...               ...                   ...   \n",
       "88884            NaN          Personal                   0.0   \n",
       "88885            NaN               NaN                   0.0   \n",
       "88886            NaN          Personal                   0.0   \n",
       "88887            NaN          Personal                   0.0   \n",
       "88888            NaN          Personal                   0.0   \n",
       "\n",
       "       Total.Serious.Injuries  Total.Minor.Injuries  Total.Uninjured  \\\n",
       "0                         0.0                   0.0              0.0   \n",
       "1                         0.0                   0.0              0.0   \n",
       "2                         NaN                   NaN              NaN   \n",
       "3                         0.0                   0.0              0.0   \n",
       "4                         2.0                   NaN              0.0   \n",
       "...                       ...                   ...              ...   \n",
       "88884                     1.0                   0.0              0.0   \n",
       "88885                     0.0                   0.0              0.0   \n",
       "88886                     0.0                   0.0              1.0   \n",
       "88887                     0.0                   0.0              0.0   \n",
       "88888                     1.0                   0.0              1.0   \n",
       "\n",
       "      Weather.Condition   Location.1    US_State  \n",
       "0                   UNK  MOOSE CREEK       Idaho  \n",
       "1                   UNK   BRIDGEPORT  California  \n",
       "2                   IMC    Saltville    Virginia  \n",
       "3                   IMC       EUREKA  California  \n",
       "4                   VMC       Canton        Ohio  \n",
       "...                 ...          ...         ...  \n",
       "88884               NaN    Annapolis         NaN  \n",
       "88885               NaN      Hampton         NaN  \n",
       "88886               VMC       Payson         NaN  \n",
       "88887               NaN       Morgan         NaN  \n",
       "88888               NaN       Athens         NaN  \n",
       "\n",
       "[88889 rows x 20 columns]"
      ]
     },
     "execution_count": 22,
     "metadata": {},
     "output_type": "execute_result"
    }
   ],
   "source": [
    "#creating new dataset with relevant columns\n",
    "\n",
    "aviation_final= aviation[['Event.Id','Investigation.Type','Accident.Number','Event.Date','Country','Injury.Severity','Aircraft.damage','Aircraft.Category','Registration.Number','Make','Number.of.Engines','Engine.Type','Purpose.of.flight','Total.Fatal.Injuries','Total.Serious.Injuries','Total.Minor.Injuries','Total.Uninjured','Weather.Condition','Location.1','US_State']]\n",
    "aviation_final\n"
   ]
  },
  {
   "cell_type": "code",
   "execution_count": 23,
   "id": "402f9712",
   "metadata": {},
   "outputs": [
    {
     "data": {
      "application/vnd.microsoft.datawrangler.viewer.v0+json": {
       "columns": [
        {
         "name": "index",
         "rawType": "int64",
         "type": "integer"
        },
        {
         "name": "EVENT_ID",
         "rawType": "object",
         "type": "string"
        },
        {
         "name": "INVESTIGATION_TYPE",
         "rawType": "object",
         "type": "string"
        },
        {
         "name": "ACCIDENT_NUMBER",
         "rawType": "object",
         "type": "string"
        },
        {
         "name": "EVENT_DATE",
         "rawType": "datetime64[ns]",
         "type": "datetime"
        },
        {
         "name": "COUNTRY",
         "rawType": "object",
         "type": "string"
        },
        {
         "name": "INJURY_SEVERITY",
         "rawType": "object",
         "type": "string"
        },
        {
         "name": "AIRCRAFT_DAMAGE",
         "rawType": "object",
         "type": "string"
        },
        {
         "name": "AIRCRAFT_CATEGORY",
         "rawType": "object",
         "type": "unknown"
        },
        {
         "name": "REGISTRATION_NUMBER",
         "rawType": "object",
         "type": "string"
        },
        {
         "name": "MAKE",
         "rawType": "object",
         "type": "string"
        },
        {
         "name": "NUMBER_OF_ENGINES",
         "rawType": "float64",
         "type": "float"
        },
        {
         "name": "ENGINE_TYPE",
         "rawType": "object",
         "type": "string"
        },
        {
         "name": "PURPOSE_OF_FLIGHT",
         "rawType": "object",
         "type": "string"
        },
        {
         "name": "TOTAL_FATAL_INJURIES",
         "rawType": "float64",
         "type": "float"
        },
        {
         "name": "TOTAL_SERIOUS_INJURIES",
         "rawType": "float64",
         "type": "float"
        },
        {
         "name": "TOTAL_MINOR_INJURIES",
         "rawType": "float64",
         "type": "float"
        },
        {
         "name": "TOTAL_UNINJURED",
         "rawType": "float64",
         "type": "float"
        },
        {
         "name": "WEATHER_CONDITION",
         "rawType": "object",
         "type": "string"
        },
        {
         "name": "LOCATION_1",
         "rawType": "object",
         "type": "string"
        },
        {
         "name": "US_STATE",
         "rawType": "object",
         "type": "string"
        }
       ],
       "conversionMethod": "pd.DataFrame",
       "ref": "6f7fcfb0-3236-4473-8d76-1dc8f725a10e",
       "rows": [
        [
         "0",
         "20001218X45444",
         "Accident",
         "SEA87LA080",
         "1948-10-24 00:00:00",
         "United States",
         "Fatal(2)",
         "Destroyed",
         null,
         "NC6404",
         "Stinson",
         "1.0",
         "Reciprocating",
         "Personal",
         "2.0",
         "0.0",
         "0.0",
         "0.0",
         "UNK",
         "MOOSE CREEK",
         "Idaho"
        ],
        [
         "1",
         "20001218X45447",
         "Accident",
         "LAX94LA336",
         "1962-07-19 00:00:00",
         "United States",
         "Fatal(4)",
         "Destroyed",
         null,
         "N5069P",
         "Piper",
         "1.0",
         "Reciprocating",
         "Personal",
         "4.0",
         "0.0",
         "0.0",
         "0.0",
         "UNK",
         "BRIDGEPORT",
         "California"
        ],
        [
         "2",
         "20061025X01555",
         "Accident",
         "NYC07LA005",
         "1974-08-30 00:00:00",
         "United States",
         "Fatal(3)",
         "Destroyed",
         null,
         "N5142R",
         "Cessna",
         "1.0",
         "Reciprocating",
         "Personal",
         "3.0",
         null,
         null,
         null,
         "IMC",
         "Saltville",
         "Virginia"
        ]
       ],
       "shape": {
        "columns": 20,
        "rows": 3
       }
      },
      "text/html": [
       "<div>\n",
       "<style scoped>\n",
       "    .dataframe tbody tr th:only-of-type {\n",
       "        vertical-align: middle;\n",
       "    }\n",
       "\n",
       "    .dataframe tbody tr th {\n",
       "        vertical-align: top;\n",
       "    }\n",
       "\n",
       "    .dataframe thead th {\n",
       "        text-align: right;\n",
       "    }\n",
       "</style>\n",
       "<table border=\"1\" class=\"dataframe\">\n",
       "  <thead>\n",
       "    <tr style=\"text-align: right;\">\n",
       "      <th></th>\n",
       "      <th>EVENT_ID</th>\n",
       "      <th>INVESTIGATION_TYPE</th>\n",
       "      <th>ACCIDENT_NUMBER</th>\n",
       "      <th>EVENT_DATE</th>\n",
       "      <th>COUNTRY</th>\n",
       "      <th>INJURY_SEVERITY</th>\n",
       "      <th>AIRCRAFT_DAMAGE</th>\n",
       "      <th>AIRCRAFT_CATEGORY</th>\n",
       "      <th>REGISTRATION_NUMBER</th>\n",
       "      <th>MAKE</th>\n",
       "      <th>NUMBER_OF_ENGINES</th>\n",
       "      <th>ENGINE_TYPE</th>\n",
       "      <th>PURPOSE_OF_FLIGHT</th>\n",
       "      <th>TOTAL_FATAL_INJURIES</th>\n",
       "      <th>TOTAL_SERIOUS_INJURIES</th>\n",
       "      <th>TOTAL_MINOR_INJURIES</th>\n",
       "      <th>TOTAL_UNINJURED</th>\n",
       "      <th>WEATHER_CONDITION</th>\n",
       "      <th>LOCATION_1</th>\n",
       "      <th>US_STATE</th>\n",
       "    </tr>\n",
       "  </thead>\n",
       "  <tbody>\n",
       "    <tr>\n",
       "      <th>0</th>\n",
       "      <td>20001218X45444</td>\n",
       "      <td>Accident</td>\n",
       "      <td>SEA87LA080</td>\n",
       "      <td>1948-10-24</td>\n",
       "      <td>United States</td>\n",
       "      <td>Fatal(2)</td>\n",
       "      <td>Destroyed</td>\n",
       "      <td>NaN</td>\n",
       "      <td>NC6404</td>\n",
       "      <td>Stinson</td>\n",
       "      <td>1.0</td>\n",
       "      <td>Reciprocating</td>\n",
       "      <td>Personal</td>\n",
       "      <td>2.0</td>\n",
       "      <td>0.0</td>\n",
       "      <td>0.0</td>\n",
       "      <td>0.0</td>\n",
       "      <td>UNK</td>\n",
       "      <td>MOOSE CREEK</td>\n",
       "      <td>Idaho</td>\n",
       "    </tr>\n",
       "    <tr>\n",
       "      <th>1</th>\n",
       "      <td>20001218X45447</td>\n",
       "      <td>Accident</td>\n",
       "      <td>LAX94LA336</td>\n",
       "      <td>1962-07-19</td>\n",
       "      <td>United States</td>\n",
       "      <td>Fatal(4)</td>\n",
       "      <td>Destroyed</td>\n",
       "      <td>NaN</td>\n",
       "      <td>N5069P</td>\n",
       "      <td>Piper</td>\n",
       "      <td>1.0</td>\n",
       "      <td>Reciprocating</td>\n",
       "      <td>Personal</td>\n",
       "      <td>4.0</td>\n",
       "      <td>0.0</td>\n",
       "      <td>0.0</td>\n",
       "      <td>0.0</td>\n",
       "      <td>UNK</td>\n",
       "      <td>BRIDGEPORT</td>\n",
       "      <td>California</td>\n",
       "    </tr>\n",
       "    <tr>\n",
       "      <th>2</th>\n",
       "      <td>20061025X01555</td>\n",
       "      <td>Accident</td>\n",
       "      <td>NYC07LA005</td>\n",
       "      <td>1974-08-30</td>\n",
       "      <td>United States</td>\n",
       "      <td>Fatal(3)</td>\n",
       "      <td>Destroyed</td>\n",
       "      <td>NaN</td>\n",
       "      <td>N5142R</td>\n",
       "      <td>Cessna</td>\n",
       "      <td>1.0</td>\n",
       "      <td>Reciprocating</td>\n",
       "      <td>Personal</td>\n",
       "      <td>3.0</td>\n",
       "      <td>NaN</td>\n",
       "      <td>NaN</td>\n",
       "      <td>NaN</td>\n",
       "      <td>IMC</td>\n",
       "      <td>Saltville</td>\n",
       "      <td>Virginia</td>\n",
       "    </tr>\n",
       "  </tbody>\n",
       "</table>\n",
       "</div>"
      ],
      "text/plain": [
       "         EVENT_ID INVESTIGATION_TYPE ACCIDENT_NUMBER EVENT_DATE  \\\n",
       "0  20001218X45444           Accident      SEA87LA080 1948-10-24   \n",
       "1  20001218X45447           Accident      LAX94LA336 1962-07-19   \n",
       "2  20061025X01555           Accident      NYC07LA005 1974-08-30   \n",
       "\n",
       "         COUNTRY INJURY_SEVERITY AIRCRAFT_DAMAGE AIRCRAFT_CATEGORY  \\\n",
       "0  United States        Fatal(2)       Destroyed               NaN   \n",
       "1  United States        Fatal(4)       Destroyed               NaN   \n",
       "2  United States        Fatal(3)       Destroyed               NaN   \n",
       "\n",
       "  REGISTRATION_NUMBER     MAKE  NUMBER_OF_ENGINES    ENGINE_TYPE  \\\n",
       "0              NC6404  Stinson                1.0  Reciprocating   \n",
       "1              N5069P    Piper                1.0  Reciprocating   \n",
       "2              N5142R   Cessna                1.0  Reciprocating   \n",
       "\n",
       "  PURPOSE_OF_FLIGHT  TOTAL_FATAL_INJURIES  TOTAL_SERIOUS_INJURIES  \\\n",
       "0          Personal                   2.0                     0.0   \n",
       "1          Personal                   4.0                     0.0   \n",
       "2          Personal                   3.0                     NaN   \n",
       "\n",
       "   TOTAL_MINOR_INJURIES  TOTAL_UNINJURED WEATHER_CONDITION   LOCATION_1  \\\n",
       "0                   0.0              0.0               UNK  MOOSE CREEK   \n",
       "1                   0.0              0.0               UNK   BRIDGEPORT   \n",
       "2                   NaN              NaN               IMC    Saltville   \n",
       "\n",
       "     US_STATE  \n",
       "0       Idaho  \n",
       "1  California  \n",
       "2    Virginia  "
      ]
     },
     "execution_count": 23,
     "metadata": {},
     "output_type": "execute_result"
    }
   ],
   "source": [
    "\n",
    "#Standardizing the table column names\n",
    "aviation_final.columns = aviation_final.columns.str.strip().str.upper().str.replace('.', '_')\n",
    "aviation_final.columns\n",
    "aviation_final.head(3)"
   ]
  },
  {
   "cell_type": "markdown",
   "id": "69e77d32",
   "metadata": {},
   "source": [
    "## Data Analysis"
   ]
  },
  {
   "cell_type": "code",
   "execution_count": 44,
   "id": "3f99a0a3",
   "metadata": {},
   "outputs": [
    {
     "name": "stderr",
     "output_type": "stream",
     "text": [
      "C:\\Users\\PC\\AppData\\Local\\Temp\\ipykernel_6376\\3943396867.py:1: SettingWithCopyWarning: \n",
      "A value is trying to be set on a copy of a slice from a DataFrame.\n",
      "Try using .loc[row_indexer,col_indexer] = value instead\n",
      "\n",
      "See the caveats in the documentation: https://pandas.pydata.org/pandas-docs/stable/user_guide/indexing.html#returning-a-view-versus-a-copy\n",
      "  aviation_final['EVENT_DATE'] = pd.to_datetime(aviation_final['EVENT_DATE'])\n"
     ]
    }
   ],
   "source": [
    "aviation_final['EVENT_DATE'] = pd.to_datetime(aviation_final['EVENT_DATE'])\n"
   ]
  },
  {
   "cell_type": "code",
   "execution_count": 124,
   "id": "fccfd243",
   "metadata": {},
   "outputs": [
    {
     "name": "stderr",
     "output_type": "stream",
     "text": [
      "C:\\Users\\PC\\AppData\\Local\\Temp\\ipykernel_6376\\383321366.py:1: SettingWithCopyWarning: \n",
      "A value is trying to be set on a copy of a slice from a DataFrame.\n",
      "Try using .loc[row_indexer,col_indexer] = value instead\n",
      "\n",
      "See the caveats in the documentation: https://pandas.pydata.org/pandas-docs/stable/user_guide/indexing.html#returning-a-view-versus-a-copy\n",
      "  aviation_final['YEAR'] =aviation_final['EVENT_DATE'].dt.year\n"
     ]
    },
    {
     "name": "stdout",
     "output_type": "stream",
     "text": [
      "             EVENT_ID INVESTIGATION_TYPE ACCIDENT_NUMBER EVENT_DATE  \\\n",
      "0      20001218X45444           Accident      SEA87LA080 1948-10-24   \n",
      "1      20001218X45447           Accident      LAX94LA336 1962-07-19   \n",
      "2      20061025X01555           Accident      NYC07LA005 1974-08-30   \n",
      "3      20001218X45448           Accident      LAX96LA321 1977-06-19   \n",
      "4      20041105X01764           Accident      CHI79FA064 1979-08-02   \n",
      "...               ...                ...             ...        ...   \n",
      "88884  20221227106491           Accident      ERA23LA093 2022-12-26   \n",
      "88885  20221227106494           Accident      ERA23LA095 2022-12-26   \n",
      "88886  20221227106497           Accident      WPR23LA075 2022-12-26   \n",
      "88887  20221227106498           Accident      WPR23LA076 2022-12-26   \n",
      "88888  20221230106513           Accident      ERA23LA097 2022-12-29   \n",
      "\n",
      "             COUNTRY INJURY_SEVERITY AIRCRAFT_DAMAGE AIRCRAFT_CATEGORY  \\\n",
      "0      United States        Fatal(2)       Destroyed               NaN   \n",
      "1      United States        Fatal(4)       Destroyed               NaN   \n",
      "2      United States        Fatal(3)       Destroyed               NaN   \n",
      "3      United States        Fatal(2)       Destroyed               NaN   \n",
      "4      United States        Fatal(1)       Destroyed               NaN   \n",
      "...              ...             ...             ...               ...   \n",
      "88884  United States           Minor             NaN               NaN   \n",
      "88885  United States             NaN             NaN               NaN   \n",
      "88886  United States       Non-Fatal     Substantial          Airplane   \n",
      "88887  United States             NaN             NaN               NaN   \n",
      "88888  United States           Minor             NaN               NaN   \n",
      "\n",
      "      REGISTRATION_NUMBER                        MAKE  ...    ENGINE_TYPE  \\\n",
      "0                  NC6404                     Stinson  ...  Reciprocating   \n",
      "1                  N5069P                       Piper  ...  Reciprocating   \n",
      "2                  N5142R                      Cessna  ...  Reciprocating   \n",
      "3                  N1168J                    Rockwell  ...  Reciprocating   \n",
      "4                   N15NY                      Cessna  ...            NaN   \n",
      "...                   ...                         ...  ...            ...   \n",
      "88884              N1867H                       PIPER  ...            NaN   \n",
      "88885              N2895Z                    BELLANCA  ...            NaN   \n",
      "88886              N749PJ  AMERICAN CHAMPION AIRCRAFT  ...            NaN   \n",
      "88887              N210CU                      CESSNA  ...            NaN   \n",
      "88888              N9026P                       PIPER  ...            NaN   \n",
      "\n",
      "      PURPOSE_OF_FLIGHT TOTAL_FATAL_INJURIES  TOTAL_SERIOUS_INJURIES  \\\n",
      "0              Personal                  2.0                     0.0   \n",
      "1              Personal                  4.0                     0.0   \n",
      "2              Personal                  3.0                     NaN   \n",
      "3              Personal                  2.0                     0.0   \n",
      "4              Personal                  1.0                     2.0   \n",
      "...                 ...                  ...                     ...   \n",
      "88884          Personal                  0.0                     1.0   \n",
      "88885               NaN                  0.0                     0.0   \n",
      "88886          Personal                  0.0                     0.0   \n",
      "88887          Personal                  0.0                     0.0   \n",
      "88888          Personal                  0.0                     1.0   \n",
      "\n",
      "       TOTAL_MINOR_INJURIES  TOTAL_UNINJURED  WEATHER_CONDITION   LOCATION_1  \\\n",
      "0                       0.0              0.0                UNK  MOOSE CREEK   \n",
      "1                       0.0              0.0                UNK   BRIDGEPORT   \n",
      "2                       NaN              NaN                IMC    Saltville   \n",
      "3                       0.0              0.0                IMC       EUREKA   \n",
      "4                       NaN              0.0                VMC       Canton   \n",
      "...                     ...              ...                ...          ...   \n",
      "88884                   0.0              0.0                NaN    Annapolis   \n",
      "88885                   0.0              0.0                NaN      Hampton   \n",
      "88886                   0.0              1.0                VMC       Payson   \n",
      "88887                   0.0              0.0                NaN       Morgan   \n",
      "88888                   0.0              1.0                NaN       Athens   \n",
      "\n",
      "         US_STATE  YEAR  \n",
      "0           Idaho  1948  \n",
      "1      California  1962  \n",
      "2        Virginia  1974  \n",
      "3      California  1977  \n",
      "4            Ohio  1979  \n",
      "...           ...   ...  \n",
      "88884         NaN  2022  \n",
      "88885         NaN  2022  \n",
      "88886         NaN  2022  \n",
      "88887         NaN  2022  \n",
      "88888         NaN  2022  \n",
      "\n",
      "[88889 rows x 21 columns]\n"
     ]
    }
   ],
   "source": [
    " aviation_final['YEAR'] =aviation_final['EVENT_DATE'].dt.year\n",
    "print(aviation_final)"
   ]
  },
  {
   "cell_type": "code",
   "execution_count": 46,
   "id": "05c2d03c",
   "metadata": {},
   "outputs": [
    {
     "data": {
      "text/plain": [
       "Index(['EVENT_ID', 'INVESTIGATION_TYPE', 'ACCIDENT_NUMBER', 'EVENT_DATE',\n",
       "       'COUNTRY', 'INJURY_SEVERITY', 'AIRCRAFT_DAMAGE', 'AIRCRAFT_CATEGORY',\n",
       "       'REGISTRATION_NUMBER', 'MAKE', 'NUMBER_OF_ENGINES', 'ENGINE_TYPE',\n",
       "       'PURPOSE_OF_FLIGHT', 'TOTAL_FATAL_INJURIES', 'TOTAL_SERIOUS_INJURIES',\n",
       "       'TOTAL_MINOR_INJURIES', 'TOTAL_UNINJURED', 'WEATHER_CONDITION',\n",
       "       'LOCATION_1', 'US_STATE', 'YEAR'],\n",
       "      dtype='object')"
      ]
     },
     "execution_count": 46,
     "metadata": {},
     "output_type": "execute_result"
    }
   ],
   "source": [
    "aviation_final.columns"
   ]
  },
  {
   "cell_type": "code",
   "execution_count": 48,
   "id": "50164254",
   "metadata": {},
   "outputs": [],
   "source": [
    "accidents_per_year =aviation_final.groupby('YEAR').size().reset_index(name='ACCIDENT_NUMBER')"
   ]
  },
  {
   "cell_type": "code",
   "execution_count": 69,
   "id": "e09bc417",
   "metadata": {},
   "outputs": [
    {
     "data": {
      "image/png": "[encoded data removed]",
      "text/plain": [
       "<Figure size 1200x600 with 1 Axes>"
      ]
     },
     "metadata": {},
     "output_type": "display_data"
    },
    {
     "name": "stdout",
     "output_type": "stream",
     "text": [
      "    YEAR  ACCIDENT_NUMBER\n",
      "0   1948                1\n",
      "1   1962                1\n",
      "2   1974                1\n",
      "3   1977                1\n",
      "4   1979                2\n",
      "5   1981                1\n",
      "6   1982             3593\n",
      "7   1983             3556\n",
      "8   1984             3457\n",
      "9   1985             3096\n",
      "10  1986             2880\n",
      "11  1987             2828\n",
      "12  1988             2730\n",
      "13  1989             2544\n",
      "14  1990             2518\n",
      "15  1991             2462\n",
      "16  1992             2355\n",
      "17  1993             2313\n",
      "18  1994             2257\n",
      "19  1995             2309\n",
      "20  1996             2187\n",
      "21  1997             2148\n",
      "22  1998             2226\n",
      "23  1999             2209\n",
      "24  2000             2220\n",
      "25  2001             2063\n",
      "26  2002             2020\n",
      "27  2003             2085\n",
      "28  2004             1952\n",
      "29  2005             2031\n",
      "30  2006             1851\n",
      "31  2007             2016\n",
      "32  2008             1893\n",
      "33  2009             1783\n",
      "34  2010             1786\n",
      "35  2011             1850\n",
      "36  2012             1835\n",
      "37  2013             1561\n",
      "38  2014             1535\n",
      "39  2015             1582\n",
      "40  2016             1664\n",
      "41  2017             1638\n",
      "42  2018             1681\n",
      "43  2019             1624\n",
      "44  2020             1392\n",
      "45  2021             1545\n",
      "46  2022             1607\n"
     ]
    }
   ],
   "source": [
    "plt.figure(figsize=(12, 6))\n",
    "plt.plot(accidents_per_year['YEAR'], accidents_per_year['ACCIDENT_NUMBER'], marker='o', linestyle='-')\n",
    "plt.xlabel('Year')\n",
    "plt.ylabel('Number of Accidents')\n",
    "plt.title('Aviation Accidents per Year')\n",
    "plt.grid(True)\n",
    "plt.show()\n",
    "\n",
    "print(accidents_per_year)"
   ]
  },
  {
   "cell_type": "markdown",
   "id": "750a435c",
   "metadata": {},
   "source": [
    "## In the chart above the accidents started increasing from the year 1980 and decreased by the year 2020."
   ]
  },
  {
   "cell_type": "markdown",
   "id": "84fefbd0",
   "metadata": {},
   "source": [
    "# Number of Accidents per Aircraft Make"
   ]
  },
  {
   "cell_type": "code",
   "execution_count": 57,
   "id": "c1b9adc1",
   "metadata": {},
   "outputs": [],
   "source": [
    "accidents_per_make =aviation_final.groupby('MAKE').size().reset_index(name='ACCIDENT_NUMBER')"
   ]
  },
  {
   "cell_type": "code",
   "execution_count": null,
   "id": "2b7b261d",
   "metadata": {},
   "outputs": [],
   "source": [
    "accidents_per_us_state =aviation_final.groupby('US_STATE').size().reset_index(name='ACCIDENT_NUMBER')"
   ]
  },
  {
   "cell_type": "code",
   "execution_count": 70,
   "id": "e924241d",
   "metadata": {},
   "outputs": [
    {
     "data": {
      "text/plain": [
       "Index(['EVENT_ID', 'INVESTIGATION_TYPE', 'ACCIDENT_NUMBER', 'EVENT_DATE',\n",
       "       'COUNTRY', 'INJURY_SEVERITY', 'AIRCRAFT_DAMAGE', 'AIRCRAFT_CATEGORY',\n",
       "       'REGISTRATION_NUMBER', 'MAKE', 'NUMBER_OF_ENGINES', 'ENGINE_TYPE',\n",
       "       'PURPOSE_OF_FLIGHT', 'TOTAL_FATAL_INJURIES', 'TOTAL_SERIOUS_INJURIES',\n",
       "       'TOTAL_MINOR_INJURIES', 'TOTAL_UNINJURED', 'WEATHER_CONDITION',\n",
       "       'LOCATION_1', 'US_STATE', 'YEAR'],\n",
       "      dtype='object')"
      ]
     },
     "execution_count": 70,
     "metadata": {},
     "output_type": "execute_result"
    }
   ],
   "source": [
    "aviation_final.columns"
   ]
  },
  {
   "cell_type": "code",
   "execution_count": null,
   "id": "e30a9d1d",
   "metadata": {},
   "outputs": [],
   "source": [
    "# Loading the Dataset\n",
    "aviation= pd.read_excel ('AviationData.xlsx')\n"
   ]
  },
  {
   "cell_type": "code",
   "execution_count": null,
   "id": "5c27245c",
   "metadata": {},
   "outputs": [],
   "source": [
    "# Loading the Dataset\n",
    "aviation= pd.read_excel ('AviationData.xlsx')\n"
   ]
  },
  {
   "cell_type": "code",
   "execution_count": 71,
   "id": "1af96ecf",
   "metadata": {},
   "outputs": [],
   "source": [
    "# Calculate mean of 'Fatal' for each 'Purpose' category\n",
    "mean_fatal_aviation_final =aviation_final .groupby('PURPOSE_OF_FLIGHT')['TOTAL_FATAL_INJURIES'].mean()"
   ]
  },
  {
   "cell_type": "code",
   "execution_count": 76,
   "id": "966a396f",
   "metadata": {},
   "outputs": [
    {
     "data": {
      "text/plain": [
       "Text(0, 0.5, 'Total Number of accidents')"
      ]
     },
     "execution_count": 76,
     "metadata": {},
     "output_type": "execute_result"
    },
    {
     "data": {
      "image/png": "[encoded data removed]",
      "text/plain": [
       "<Figure size 1200x800 with 1 Axes>"
      ]
     },
     "metadata": {},
     "output_type": "display_data"
    }
   ],
   "source": [
    "plt.figure(figsize=(12, 8))\n",
    "\n",
    "# Engines\n",
    "plt.subplot(2, 3, 1)\n",
    "plt.bar(aviation_final['NUMBER_OF_ENGINES'].value_counts().index[0:5], aviation_final['NUMBER_OF_ENGINES'].value_counts().values[0:5], color='blue')\n",
    "plt.title('Number of Engines')\n",
    "plt.xlabel('Engines per aircraft')\n",
    "plt.ylabel('Total Number of accidents')"
   ]
  },
  {
   "cell_type": "markdown",
   "id": "666738b4",
   "metadata": {},
   "source": [
    "### Aircrafts with 1 engine have shown to have a highest  number of accidents ###"
   ]
  },
  {
   "cell_type": "code",
   "execution_count": 102,
   "id": "ac79a204",
   "metadata": {},
   "outputs": [
    {
     "data": {
      "text/plain": [
       "Text(0, 0.5, 'Total Serious Injuries')"
      ]
     },
     "execution_count": 102,
     "metadata": {},
     "output_type": "execute_result"
    },
    {
     "data": {
      "image/png": "[encoded data removed]",
      "text/plain": [
       "<Figure size 1500x1000 with 1 Axes>"
      ]
     },
     "metadata": {},
     "output_type": "display_data"
    }
   ],
   "source": [
    "# Serious\n",
    "plt.figure(figsize=(15,10))\n",
    "plt.subplot(2, 3, 3)\n",
    "plt.bar(aviation_final['TOTAL_SERIOUS_INJURIES'].value_counts().index[0:5], aviation_final['TOTAL_SERIOUS_INJURIES'].value_counts().values[0:5], color='PURPLE')\n",
    "plt.title('Number of Serious Injuries')\n",
    "plt.xlabel('Serious Injuries per accident')\n",
    "plt.ylabel('Total Serious Injuries')"
   ]
  },
  {
   "cell_type": "code",
   "execution_count": 125,
   "id": "72d26892",
   "metadata": {},
   "outputs": [
    {
     "data": {
      "text/plain": [
       "Text(0, 0.5, 'Make')"
      ]
     },
     "execution_count": 125,
     "metadata": {},
     "output_type": "execute_result"
    },
    {
     "data": {
      "image/png": "[encoded data removed]",
      "text/plain": [
       "<Figure size 1500x1000 with 1 Axes>"
      ]
     },
     "metadata": {},
     "output_type": "display_data"
    }
   ],
   "source": [
    "# Make\n",
    "plt.figure(figsize=(15,10))\n",
    "plt.subplot(2, 3,6)\n",
    "plt.bar(aviation_final['MAKE'].value_counts().index[0:5], aviation_final['MAKE'].value_counts().values[0:5], color='RED')\n",
    "plt.title('MAKE')\n",
    "plt.xlabel('Make')\n",
    "plt.ylabel('Make')"
   ]
  },
  {
   "cell_type": "markdown",
   "id": "09c47001",
   "metadata": {},
   "source": [
    "### The CESSNA Aircraft seems to have the highest number of accidents ###"
   ]
  },
  {
   "cell_type": "code",
   "execution_count": 100,
   "id": "16fa6ac4",
   "metadata": {},
   "outputs": [
    {
     "data": {
      "text/plain": [
       "Text(0, 0.5, 'TOTAL_FATAL_INJURIES')"
      ]
     },
     "execution_count": 100,
     "metadata": {},
     "output_type": "execute_result"
    },
    {
     "data": {
      "image/png": "[encoded data removed]",
      "text/plain": [
       "<Figure size 1500x1000 with 1 Axes>"
      ]
     },
     "metadata": {},
     "output_type": "display_data"
    }
   ],
   "source": [
    "# Fatalities\n",
    "plt.figure(figsize=(15,10))\n",
    "plt.subplot(2, 3, 2)\n",
    "plt.bar(aviation_final['TOTAL_FATAL_INJURIES'].value_counts().index[0:5], aviation_final['TOTAL_FATAL_INJURIES'].value_counts().values[0:5], color='YELLOW')\n",
    "plt.title('Number of TOTAL_FATAL_INJURIES')\n",
    "plt.xlabel('TOTAL_FATAL_INJURIES per accident')\n",
    "plt.ylabel('TOTAL_FATAL_INJURIES')"
   ]
  },
  {
   "cell_type": "code",
   "execution_count": 93,
   "id": "b7ef5173",
   "metadata": {},
   "outputs": [
    {
     "data": {
      "text/plain": [
       "Text(0, 0.5, 'TOTAL_UNINJURED')"
      ]
     },
     "execution_count": 93,
     "metadata": {},
     "output_type": "execute_result"
    },
    {
     "data": {
      "image/png": "[encoded data removed]",
      "text/plain": [
       "<Figure size 1500x1000 with 1 Axes>"
      ]
     },
     "metadata": {},
     "output_type": "display_data"
    }
   ],
   "source": [
    "# Uninjured\n",
    "plt.figure(figsize=(15,10))\n",
    "plt.subplot(2, 3, 5)\n",
    "plt.bar(aviation_final['TOTAL_UNINJURED'].value_counts().index[0:5], aviation_final['TOTAL_UNINJURED'].value_counts().values[0:5], color='orange')\n",
    "plt.title('Number of TOTAL_UNINJURED')\n",
    "plt.xlabel('TOTAL_UNINJURED per accident')\n",
    "plt.ylabel('TOTAL_UNINJURED')"
   ]
  },
  {
   "cell_type": "code",
   "execution_count": 97,
   "id": "393ee4d9",
   "metadata": {},
   "outputs": [
    {
     "data": {
      "text/plain": [
       "Text(0, 0.5, 'US_STATE')"
      ]
     },
     "execution_count": 97,
     "metadata": {},
     "output_type": "execute_result"
    },
    {
     "data": {
      "image/png": "[encoded data removed]",
      "text/plain": [
       "<Figure size 1500x1000 with 1 Axes>"
      ]
     },
     "metadata": {},
     "output_type": "display_data"
    }
   ],
   "source": [
    "# Us_State\n",
    "plt.figure(figsize=(15,10))\n",
    "plt.subplot(2, 3,6)\n",
    "plt.bar(aviation_final['US_STATE'].value_counts().index[0:5], aviation_final['US_STATE'].value_counts().values[0:5], color='black')\n",
    "plt.title('US_STATE')\n",
    "plt.xlabel('US_STATE')\n",
    "plt.ylabel('US_STATE')"
   ]
  },
  {
   "cell_type": "markdown",
   "id": "3c537805",
   "metadata": {},
   "source": [
    "### In the  state of Califonia  recorded the highest number of accidents ###"
   ]
  },
  {
   "cell_type": "code",
   "execution_count": 99,
   "id": "d3a8e4a7",
   "metadata": {},
   "outputs": [
    {
     "data": {
      "text/plain": [
       "Text(0, 0.5, 'WEATHER_CONDITION')"
      ]
     },
     "execution_count": 99,
     "metadata": {},
     "output_type": "execute_result"
    },
    {
     "data": {
      "image/png": "[encoded data removed]",
      "text/plain": [
       "<Figure size 1500x1000 with 1 Axes>"
      ]
     },
     "metadata": {},
     "output_type": "display_data"
    }
   ],
   "source": [
    "# Weather\n",
    "plt.figure(figsize=(15,10))\n",
    "plt.subplot(2, 3,6)\n",
    "plt.bar(aviation_final['WEATHER_CONDITION'].value_counts().index[0:5], aviation_final['WEATHER_CONDITION'].value_counts().values[0:5], color='GREEN')\n",
    "plt.title('WEATHER_CONDITION')\n",
    "plt.xlabel('WEATHER_CONDITION')\n",
    "plt.ylabel('WEATHER_CONDITION')"
   ]
  },
  {
   "cell_type": "markdown",
   "id": "19e0d323",
   "metadata": {},
   "source": [
    "# Visual meteorological conditions (VMC) #\n",
    "\n",
    "VMC refers to weather conditions in which pilots have sufficient visibility and reference to the ground or horizon to navigate and control the aircraft visually.\n",
    "\n",
    "## Instrument meteorological conditions (IMC) ##\n",
    "\n",
    "IMC refers to weather conditions that do not meet the criteria for Visual Meteorological Conditions. This means that the visibility and/or cloud clearance are below the minimum required for VMC.\n",
    "In IMC, pilots cannot adequately navigate or control the aircraft using visual references due to poor visibility or obscured horizon."
   ]
  },
  {
   "cell_type": "markdown",
   "id": "630066fc",
   "metadata": {},
   "source": [
    "### As the analysis shows that the weather conditions under VMC results to the highest number of accidents ###"
   ]
  },
  {
   "cell_type": "code",
   "execution_count": null,
   "id": "af96541d",
   "metadata": {},
   "outputs": [
    {
     "data": {
      "text/plain": [
       "Text(0, 0.5, 'PURPOSE_OF_FLIGHT ')"
      ]
     },
     "execution_count": 112,
     "metadata": {},
     "output_type": "execute_result"
    },
    {
     "data": {
      "image/png": "[encoded data removed]",
      "text/plain": [
       "<Figure size 3000x1000 with 1 Axes>"
      ]
     },
     "metadata": {},
     "output_type": "display_data"
    }
   ],
   "source": [
    "#PURPOSE_OF_FLIGHT\n",
    "plt.figure(figsize=(30, 10))\n",
    "plt.subplot(2, 3, 1)\n",
    "plt.bar(aviation_final['PURPOSE_OF_FLIGHT'].value_counts().index[0:5], aviation_final['PURPOSE_OF_FLIGHT'].value_counts().values[0:5], color='PINK')\n",
    "plt.title('PURPOSE_OF_FLIGHT')\n",
    "plt.xlabel('PURPOSE_OF_FLIGHT')\n",
    "plt.ylabel('PURPOSE_OF_FLIGHT ')"
   ]
  },
  {
   "cell_type": "markdown",
   "id": "7c4a0b94",
   "metadata": {},
   "source": [
    "### The personal flights  recorded the highest number of accidents ###"
   ]
  },
  {
   "cell_type": "code",
   "execution_count": 114,
   "id": "470d3a93",
   "metadata": {},
   "outputs": [
    {
     "data": {
      "text/plain": [
       "Text(0, 0.5, 'ENGINE_TYPE ')"
      ]
     },
     "execution_count": 114,
     "metadata": {},
     "output_type": "execute_result"
    },
    {
     "data": {
      "image/png": "[encoded data removed]",
      "text/plain": [
       "<Figure size 3000x1000 with 1 Axes>"
      ]
     },
     "metadata": {},
     "output_type": "display_data"
    }
   ],
   "source": [
    "#ENGINE_TYPE\n",
    "plt.figure(figsize=(30, 10))\n",
    "plt.subplot(2, 3, 1)\n",
    "plt.bar(aviation_final['ENGINE_TYPE'].value_counts().index[0:5], aviation_final['ENGINE_TYPE'].value_counts().values[0:5], color='BROWN')\n",
    "plt.title('ENGINE_TYPE')\n",
    "plt.xlabel('ENGINE_TYPE')\n",
    "plt.ylabel('ENGINE_TYPE ')"
   ]
  },
  {
   "cell_type": "markdown",
   "id": "87c31cd7",
   "metadata": {},
   "source": [
    "### The Reciprocating Engines  recorded the highest number of accidents therefore investors should not pick this type of engines. ###"
   ]
  },
  {
   "cell_type": "code",
   "execution_count": 123,
   "id": "9949da8b",
   "metadata": {},
   "outputs": [
    {
     "data": {
      "text/plain": [
       "Text(0, 0.5, 'AIRCRAFT_DAMAGE ')"
      ]
     },
     "execution_count": 123,
     "metadata": {},
     "output_type": "execute_result"
    },
    {
     "data": {
      "image/png": "[encoded data removed]",
      "text/plain": [
       "<Figure size 2000x1000 with 1 Axes>"
      ]
     },
     "metadata": {},
     "output_type": "display_data"
    }
   ],
   "source": [
    "#AIRCRAFT_DAMAGE\n",
    "plt.figure(figsize=(20, 10))\n",
    "plt.subplot(2, 3, 1)\n",
    "plt.bar(aviation_final['AIRCRAFT_DAMAGE'].value_counts().index[0:5], aviation_final['AIRCRAFT_DAMAGE'].value_counts().values[0:5], color='SILVER')\n",
    "plt.title('AIRCRAFT_DAMAGE')\n",
    "plt.xlabel('AIRCRAFT_DAMAGE')\n",
    "plt.ylabel('AIRCRAFT_DAMAGE ')"
   ]
  },
  {
   "cell_type": "markdown",
   "id": "a0064681",
   "metadata": {},
   "source": [
    "### Throuhout history the data shows that when aviation accidents occure, aircraft damage caused was substantial. ###"
   ]
  },
  {
   "cell_type": "markdown",
   "id": "b690b8a8",
   "metadata": {},
   "source": [
    "## Conclusion"
   ]
  },
  {
   "cell_type": "markdown",
   "id": "b2fcb4c6",
   "metadata": {},
   "source": [
    "The Company should avoid the CESSNA aircraft model with 1No engine as  well reciporcating engines as they were observed to have the highest number of accidents."
   ]
  }
 ],
 "metadata": {
  "kernelspec": {
   "display_name": "Python [conda env:anaconda3] *",
   "language": "python",
   "name": "conda-env-anaconda3-py"
  },
  "language_info": {
   "codemirror_mode": {
    "name": "ipython",
    "version": 3
   },
   "file_extension": ".py",
   "mimetype": "text/x-python",
   "name": "python",
   "nbconvert_exporter": "python",
   "pygments_lexer": "ipython3",
   "version": "3.12.7"
  }
 },
 "nbformat": 4,
 "nbformat_minor": 5
}
